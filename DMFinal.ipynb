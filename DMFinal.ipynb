{
  "cells": [
    {
      "cell_type": "markdown",
      "metadata": {
        "id": "view-in-github",
        "colab_type": "text"
      },
      "source": [
        "<a href=\"https://colab.research.google.com/github/ktpss97094/AI_finalproject/blob/main/DMFinal.ipynb\" target=\"_parent\"><img src=\"https://colab.research.google.com/assets/colab-badge.svg\" alt=\"Open In Colab\"/></a>"
      ]
    },
    {
      "cell_type": "code",
      "source": [
        "'''\n",
        "丟到 kaggle 要改的地方\n",
        "'''\n",
        "from enum import Enum\n",
        "class EXEC_ENV_ENUM(Enum):\n",
        "    COLAB = 1\n",
        "    KAGGLE = 2\n",
        "    LOCAL = 3\n",
        "EXEC_ENV = EXEC_ENV_ENUM.COLAB\n",
        "# EXEC_ENV = EXEC_ENV_ENUM.KAGGLE\n",
        "# EXEC_ENV = EXEC_ENV_ENUM.LOCAL\n",
        "\n",
        "src_path = \"\"\n",
        "\n",
        "if EXEC_ENV == EXEC_ENV_ENUM.COLAB:\n",
        "    from google.colab import drive\n",
        "    from google.colab.patches import cv2_imshow\n",
        "    drive.mount('/content/gdrive')\n",
        "    src_path = '/content/gdrive/MyDrive/DM/child-mind-institute-problematic-internet-use'\n",
        "elif EXEC_ENV == EXEC_ENV_ENUM.KAGGLE:\n",
        "    src_path = '/kaggle/input/child-mind-institute-problematic-internet-use'\n",
        "else:\n",
        "    src_path = 'child-mind-institute-problematic-internet-use'\n",
        "\n",
        "%cd {src_path}"
      ],
      "metadata": {
        "colab": {
          "base_uri": "https://localhost:8080/"
        },
        "id": "YAAOE-jfFMHG",
        "outputId": "62a5f4dd-5c6b-43cc-9de7-319810d1e24e"
      },
      "execution_count": 16,
      "outputs": [
        {
          "output_type": "stream",
          "name": "stdout",
          "text": [
            "Drive already mounted at /content/gdrive; to attempt to forcibly remount, call drive.mount(\"/content/gdrive\", force_remount=True).\n",
            "/content/gdrive/MyDrive/DM/child-mind-institute-problematic-internet-use\n"
          ]
        }
      ]
    },
    {
      "cell_type": "markdown",
      "source": [
        "# Public Code Trial (score up to 0.492) (ktpss97094)"
      ],
      "metadata": {
        "id": "8E_Axdov9pA4"
      }
    },
    {
      "cell_type": "code",
      "source": [
        "%pip install numpy pandas colorama catboost"
      ],
      "metadata": {
        "colab": {
          "base_uri": "https://localhost:8080/"
        },
        "id": "_GHVktHd9ziQ",
        "outputId": "690fb651-b5cf-4ac6-952b-35eea89b488a"
      },
      "execution_count": 11,
      "outputs": [
        {
          "output_type": "stream",
          "name": "stdout",
          "text": [
            "Requirement already satisfied: numpy in /usr/local/lib/python3.10/dist-packages (1.26.4)\n",
            "Requirement already satisfied: pandas in /usr/local/lib/python3.10/dist-packages (2.2.2)\n",
            "Requirement already satisfied: colorama in /usr/local/lib/python3.10/dist-packages (0.4.6)\n",
            "Collecting catboost\n",
            "  Downloading catboost-1.2.7-cp310-cp310-manylinux2014_x86_64.whl.metadata (1.2 kB)\n",
            "Requirement already satisfied: python-dateutil>=2.8.2 in /usr/local/lib/python3.10/dist-packages (from pandas) (2.8.2)\n",
            "Requirement already satisfied: pytz>=2020.1 in /usr/local/lib/python3.10/dist-packages (from pandas) (2024.2)\n",
            "Requirement already satisfied: tzdata>=2022.7 in /usr/local/lib/python3.10/dist-packages (from pandas) (2024.2)\n",
            "Requirement already satisfied: graphviz in /usr/local/lib/python3.10/dist-packages (from catboost) (0.20.3)\n",
            "Requirement already satisfied: matplotlib in /usr/local/lib/python3.10/dist-packages (from catboost) (3.7.1)\n",
            "Requirement already satisfied: scipy in /usr/local/lib/python3.10/dist-packages (from catboost) (1.13.1)\n",
            "Requirement already satisfied: plotly in /usr/local/lib/python3.10/dist-packages (from catboost) (5.24.1)\n",
            "Requirement already satisfied: six in /usr/local/lib/python3.10/dist-packages (from catboost) (1.16.0)\n",
            "Requirement already satisfied: contourpy>=1.0.1 in /usr/local/lib/python3.10/dist-packages (from matplotlib->catboost) (1.3.0)\n",
            "Requirement already satisfied: cycler>=0.10 in /usr/local/lib/python3.10/dist-packages (from matplotlib->catboost) (0.12.1)\n",
            "Requirement already satisfied: fonttools>=4.22.0 in /usr/local/lib/python3.10/dist-packages (from matplotlib->catboost) (4.54.1)\n",
            "Requirement already satisfied: kiwisolver>=1.0.1 in /usr/local/lib/python3.10/dist-packages (from matplotlib->catboost) (1.4.7)\n",
            "Requirement already satisfied: packaging>=20.0 in /usr/local/lib/python3.10/dist-packages (from matplotlib->catboost) (24.1)\n",
            "Requirement already satisfied: pillow>=6.2.0 in /usr/local/lib/python3.10/dist-packages (from matplotlib->catboost) (10.4.0)\n",
            "Requirement already satisfied: pyparsing>=2.3.1 in /usr/local/lib/python3.10/dist-packages (from matplotlib->catboost) (3.2.0)\n",
            "Requirement already satisfied: tenacity>=6.2.0 in /usr/local/lib/python3.10/dist-packages (from plotly->catboost) (9.0.0)\n",
            "Downloading catboost-1.2.7-cp310-cp310-manylinux2014_x86_64.whl (98.7 MB)\n",
            "\u001b[2K   \u001b[90m━━━━━━━━━━━━━━━━━━━━━━━━━━━━━━━━━━━━━━━━\u001b[0m \u001b[32m98.7/98.7 MB\u001b[0m \u001b[31m8.0 MB/s\u001b[0m eta \u001b[36m0:00:00\u001b[0m\n",
            "\u001b[?25hInstalling collected packages: catboost\n",
            "Successfully installed catboost-1.2.7\n"
          ]
        }
      ]
    },
    {
      "cell_type": "markdown",
      "source": [
        "## Description of Imported Libraries\n",
        "\n",
        "- **NumPy (`np`)**: Used for efficient numerical operations, including linear algebra and array manipulation.\n",
        "- **Pandas (`pd`)**: Provides data structures like DataFrames for handling structured data, essential for data preprocessing.\n",
        "- **Polars (`pl`)**: A faster alternative to pandas for DataFrame operations, particularly useful for large datasets.\n",
        "- **Matplotlib & Seaborn (`plt`, `sns`)**: Visualization libraries. Matplotlib is used for basic plots, while Seaborn builds on it to create more advanced statistical visualizations.\n",
        "- **LightGBM, XGBoost, CatBoost**: Machine learning libraries used for gradient boosting, which is efficient for both regression and classification tasks.\n",
        "- **Colorama**: Enhances console output with colored text, making it easier to highlight important results or warnings.\n",
        "- **SciPy (`minimize`)**: Provides optimization routines, such as adjusting thresholds to maximize performance metrics like kappa scores.\n",
        "- **OS**: Used for file path manipulations and system-related functions.\n",
        "- **Scikit-learn (`sklearn`)**: A powerful machine learning library, providing utilities for cross-validation, metrics, and model cloning.\n",
        "- **YDF**: A specialized library for machine learning tasks, likely including decision forests.\n",
        "- **ThreadPoolExecutor & TQDM**: Tools for parallelizing tasks and displaying progress bars for long-running loops, improving efficiency and usability.\n",
        "- **Warnings**: Filters out unwanted warnings to keep the output clean, useful when dealing with noisy outputs from multiple libraries.\n",
        "- **IPython display (`clear_output`)**: A utility for clearing the Jupyter notebook output, often used to avoid clutter in long-running scripts.\n"
      ],
      "metadata": {
        "id": "pONaq4qx_L8a"
      }
    },
    {
      "cell_type": "code",
      "source": [
        "import numpy as np\n",
        "import pandas as pd\n",
        "import os\n",
        "import re\n",
        "from sklearn.base import clone\n",
        "from sklearn.metrics import cohen_kappa_score\n",
        "from sklearn.model_selection import StratifiedKFold\n",
        "from scipy.optimize import minimize\n",
        "from concurrent.futures import ThreadPoolExecutor\n",
        "from tqdm import tqdm\n",
        "import polars as pl\n",
        "import polars.selectors as cs\n",
        "import matplotlib.pyplot as plt\n",
        "from matplotlib.ticker import MaxNLocator, FormatStrFormatter, PercentFormatter\n",
        "import seaborn as sns\n",
        "\n",
        "from sklearn.preprocessing import StandardScaler\n",
        "import matplotlib.pyplot as plt\n",
        "from keras.models import Model\n",
        "from keras.layers import Input, Dense\n",
        "from keras.optimizers import Adam\n",
        "import torch\n",
        "import torch.nn as nn\n",
        "import torch.optim as optim\n",
        "\n",
        "from colorama import Fore, Style\n",
        "from IPython.display import clear_output\n",
        "import warnings\n",
        "from lightgbm import LGBMRegressor\n",
        "from xgboost import XGBRegressor\n",
        "from catboost import CatBoostRegressor\n",
        "from sklearn.ensemble import VotingRegressor, RandomForestRegressor, GradientBoostingRegressor\n",
        "from sklearn.impute import SimpleImputer, KNNImputer\n",
        "from sklearn.pipeline import Pipeline\n",
        "warnings.filterwarnings('ignore')\n",
        "pd.options.display.max_columns = None"
      ],
      "metadata": {
        "trusted": true,
        "execution": {
          "iopub.status.busy": "2024-10-18T16:09:35.246659Z",
          "iopub.execute_input": "2024-10-18T16:09:35.246991Z",
          "iopub.status.idle": "2024-10-18T16:09:56.055491Z",
          "shell.execute_reply.started": "2024-10-18T16:09:35.246957Z",
          "shell.execute_reply": "2024-10-18T16:09:56.054507Z"
        },
        "id": "nLT_TvTm_L8b"
      },
      "outputs": [],
      "execution_count": 13
    },
    {
      "cell_type": "code",
      "source": [
        "target_labels = ['None', 'Mild', 'Moderate', 'Severe']"
      ],
      "metadata": {
        "execution": {
          "iopub.status.busy": "2024-10-18T16:09:56.057393Z",
          "iopub.execute_input": "2024-10-18T16:09:56.058301Z",
          "iopub.status.idle": "2024-10-18T16:09:56.06283Z",
          "shell.execute_reply.started": "2024-10-18T16:09:56.058242Z",
          "shell.execute_reply": "2024-10-18T16:09:56.061864Z"
        },
        "trusted": true,
        "id": "po33g-Sm_L8b"
      },
      "outputs": [],
      "execution_count": 14
    },
    {
      "cell_type": "code",
      "source": [
        "season_dtype = pl.Enum(['Spring', 'Summer', 'Fall', 'Winter'])\n",
        "\n",
        "train = (\n",
        "    pl.read_csv(os.path.join(src_path, 'train.csv'))\n",
        "    .with_columns(pl.col('^.*Season$').cast(season_dtype))\n",
        ")\n",
        "\n",
        "test = (\n",
        "    pl.read_csv(os.path.join(src_path, 'test.csv'))\n",
        "    .with_columns(pl.col('^.*Season$').cast(season_dtype))\n",
        ")\n",
        "\n",
        "train\n",
        "test"
      ],
      "metadata": {
        "execution": {
          "iopub.status.busy": "2024-10-18T16:09:56.064161Z",
          "iopub.execute_input": "2024-10-18T16:09:56.064581Z",
          "iopub.status.idle": "2024-10-18T16:09:56.225132Z",
          "shell.execute_reply.started": "2024-10-18T16:09:56.06454Z",
          "shell.execute_reply": "2024-10-18T16:09:56.224149Z"
        },
        "trusted": true,
        "id": "LSFQu_eM_L8c",
        "colab": {
          "base_uri": "https://localhost:8080/",
          "height": 480
        },
        "outputId": "47ba8126-fd0f-4ed6-ce34-afe250083c79"
      },
      "outputs": [
        {
          "output_type": "execute_result",
          "data": {
            "text/plain": [
              "shape: (20, 59)\n",
              "┌──────────┬───────────┬───────────┬───────────┬───┬───────────┬───────────┬───────────┬───────────┐\n",
              "│ id       ┆ Basic_Dem ┆ Basic_Dem ┆ Basic_Dem ┆ … ┆ SDS-SDS_T ┆ SDS-SDS_T ┆ PreInt_Ed ┆ PreInt_Ed │\n",
              "│ ---      ┆ os-Enroll ┆ os-Age    ┆ os-Sex    ┆   ┆ otal_Raw  ┆ otal_T    ┆ uHx-Seaso ┆ uHx-compu │\n",
              "│ str      ┆ _Season   ┆ ---       ┆ ---       ┆   ┆ ---       ┆ ---       ┆ n         ┆ terintern │\n",
              "│          ┆ ---       ┆ i64       ┆ i64       ┆   ┆ i64       ┆ i64       ┆ ---       ┆ et_…      │\n",
              "│          ┆ enum      ┆           ┆           ┆   ┆           ┆           ┆ enum      ┆ ---       │\n",
              "│          ┆           ┆           ┆           ┆   ┆           ┆           ┆           ┆ i64       │\n",
              "╞══════════╪═══════════╪═══════════╪═══════════╪═══╪═══════════╪═══════════╪═══════════╪═══════════╡\n",
              "│ 00008ff9 ┆ Fall      ┆ 5         ┆ 0         ┆ … ┆ null      ┆ null      ┆ Fall      ┆ 3         │\n",
              "│ 000fd460 ┆ Summer    ┆ 9         ┆ 0         ┆ … ┆ 46        ┆ 64        ┆ Summer    ┆ 0         │\n",
              "│ 00105258 ┆ Summer    ┆ 10        ┆ 1         ┆ … ┆ 38        ┆ 54        ┆ Summer    ┆ 2         │\n",
              "│ 00115b9f ┆ Winter    ┆ 9         ┆ 0         ┆ … ┆ 31        ┆ 45        ┆ Winter    ┆ 0         │\n",
              "│ 0016bb22 ┆ Spring    ┆ 18        ┆ 1         ┆ … ┆ null      ┆ null      ┆ null      ┆ null      │\n",
              "│ …        ┆ …         ┆ …         ┆ …         ┆ … ┆ …         ┆ …         ┆ …         ┆ …         │\n",
              "│ 00c0cd71 ┆ Winter    ┆ 7         ┆ 0         ┆ … ┆ 35        ┆ 50        ┆ Winter    ┆ 2         │\n",
              "│ 00d56d4b ┆ Spring    ┆ 5         ┆ 1         ┆ … ┆ 37        ┆ 53        ┆ Spring    ┆ 0         │\n",
              "│ 00d9913d ┆ Fall      ┆ 10        ┆ 1         ┆ … ┆ null      ┆ null      ┆ Fall      ┆ 1         │\n",
              "│ 00e6167c ┆ Winter    ┆ 6         ┆ 0         ┆ … ┆ 39        ┆ 55        ┆ Winter    ┆ 3         │\n",
              "│ 00ebc35d ┆ Winter    ┆ 10        ┆ 0         ┆ … ┆ null      ┆ null      ┆ Winter    ┆ 2         │\n",
              "└──────────┴───────────┴───────────┴───────────┴───┴───────────┴───────────┴───────────┴───────────┘"
            ],
            "text/html": [
              "<div><style>\n",
              ".dataframe > thead > tr,\n",
              ".dataframe > tbody > tr {\n",
              "  text-align: right;\n",
              "  white-space: pre-wrap;\n",
              "}\n",
              "</style>\n",
              "<small>shape: (20, 59)</small><table border=\"1\" class=\"dataframe\"><thead><tr><th>id</th><th>Basic_Demos-Enroll_Season</th><th>Basic_Demos-Age</th><th>Basic_Demos-Sex</th><th>CGAS-Season</th><th>CGAS-CGAS_Score</th><th>Physical-Season</th><th>Physical-BMI</th><th>Physical-Height</th><th>Physical-Weight</th><th>Physical-Waist_Circumference</th><th>Physical-Diastolic_BP</th><th>Physical-HeartRate</th><th>Physical-Systolic_BP</th><th>Fitness_Endurance-Season</th><th>Fitness_Endurance-Max_Stage</th><th>Fitness_Endurance-Time_Mins</th><th>Fitness_Endurance-Time_Sec</th><th>FGC-Season</th><th>FGC-FGC_CU</th><th>FGC-FGC_CU_Zone</th><th>FGC-FGC_GSND</th><th>FGC-FGC_GSND_Zone</th><th>FGC-FGC_GSD</th><th>FGC-FGC_GSD_Zone</th><th>FGC-FGC_PU</th><th>FGC-FGC_PU_Zone</th><th>FGC-FGC_SRL</th><th>FGC-FGC_SRL_Zone</th><th>FGC-FGC_SRR</th><th>FGC-FGC_SRR_Zone</th><th>FGC-FGC_TL</th><th>FGC-FGC_TL_Zone</th><th>BIA-Season</th><th>BIA-BIA_Activity_Level_num</th><th>BIA-BIA_BMC</th><th>BIA-BIA_BMI</th><th>BIA-BIA_BMR</th><th>BIA-BIA_DEE</th><th>BIA-BIA_ECW</th><th>BIA-BIA_FFM</th><th>BIA-BIA_FFMI</th><th>BIA-BIA_FMI</th><th>BIA-BIA_Fat</th><th>BIA-BIA_Frame_num</th><th>BIA-BIA_ICW</th><th>BIA-BIA_LDM</th><th>BIA-BIA_LST</th><th>BIA-BIA_SMM</th><th>BIA-BIA_TBW</th><th>PAQ_A-Season</th><th>PAQ_A-PAQ_A_Total</th><th>PAQ_C-Season</th><th>PAQ_C-PAQ_C_Total</th><th>SDS-Season</th><th>SDS-SDS_Total_Raw</th><th>SDS-SDS_Total_T</th><th>PreInt_EduHx-Season</th><th>PreInt_EduHx-computerinternet_hoursday</th></tr><tr><td>str</td><td>enum</td><td>i64</td><td>i64</td><td>enum</td><td>i64</td><td>enum</td><td>f64</td><td>f64</td><td>f64</td><td>f64</td><td>i64</td><td>i64</td><td>i64</td><td>enum</td><td>i64</td><td>i64</td><td>i64</td><td>enum</td><td>i64</td><td>i64</td><td>f64</td><td>i64</td><td>f64</td><td>i64</td><td>i64</td><td>i64</td><td>f64</td><td>i64</td><td>f64</td><td>i64</td><td>f64</td><td>i64</td><td>enum</td><td>i64</td><td>f64</td><td>f64</td><td>f64</td><td>f64</td><td>f64</td><td>f64</td><td>f64</td><td>f64</td><td>f64</td><td>i64</td><td>f64</td><td>f64</td><td>f64</td><td>f64</td><td>f64</td><td>enum</td><td>f64</td><td>enum</td><td>f64</td><td>enum</td><td>i64</td><td>i64</td><td>enum</td><td>i64</td></tr></thead><tbody><tr><td>&quot;00008ff9&quot;</td><td>&quot;Fall&quot;</td><td>5</td><td>0</td><td>&quot;Winter&quot;</td><td>51</td><td>&quot;Fall&quot;</td><td>16.877316</td><td>46.0</td><td>50.8</td><td>null</td><td>null</td><td>null</td><td>null</td><td>null</td><td>null</td><td>null</td><td>null</td><td>&quot;Fall&quot;</td><td>0</td><td>0</td><td>null</td><td>null</td><td>null</td><td>null</td><td>0</td><td>0</td><td>7.0</td><td>0</td><td>6.0</td><td>0</td><td>6.0</td><td>1</td><td>&quot;Fall&quot;</td><td>2</td><td>2.66855</td><td>16.8792</td><td>932.498</td><td>1492.0</td><td>8.25598</td><td>41.5862</td><td>13.8177</td><td>3.06143</td><td>9.21377</td><td>1</td><td>24.4349</td><td>8.89536</td><td>38.9177</td><td>19.5413</td><td>32.6909</td><td>null</td><td>null</td><td>null</td><td>null</td><td>null</td><td>null</td><td>null</td><td>&quot;Fall&quot;</td><td>3</td></tr><tr><td>&quot;000fd460&quot;</td><td>&quot;Summer&quot;</td><td>9</td><td>0</td><td>null</td><td>null</td><td>&quot;Fall&quot;</td><td>14.03559</td><td>48.0</td><td>46.0</td><td>22.0</td><td>75</td><td>70</td><td>122</td><td>null</td><td>null</td><td>null</td><td>null</td><td>&quot;Fall&quot;</td><td>3</td><td>0</td><td>null</td><td>null</td><td>null</td><td>null</td><td>5</td><td>0</td><td>11.0</td><td>1</td><td>11.0</td><td>1</td><td>3.0</td><td>0</td><td>&quot;Winter&quot;</td><td>2</td><td>2.57949</td><td>14.0371</td><td>936.656</td><td>1498.65</td><td>6.01993</td><td>42.0291</td><td>12.8254</td><td>1.21172</td><td>3.97085</td><td>1</td><td>21.0352</td><td>14.974</td><td>39.4497</td><td>15.4107</td><td>27.0552</td><td>null</td><td>null</td><td>&quot;Fall&quot;</td><td>2.34</td><td>&quot;Fall&quot;</td><td>46</td><td>64</td><td>&quot;Summer&quot;</td><td>0</td></tr><tr><td>&quot;00105258&quot;</td><td>&quot;Summer&quot;</td><td>10</td><td>1</td><td>&quot;Fall&quot;</td><td>71</td><td>&quot;Fall&quot;</td><td>16.648696</td><td>56.5</td><td>75.6</td><td>null</td><td>65</td><td>94</td><td>117</td><td>&quot;Fall&quot;</td><td>5</td><td>7</td><td>33</td><td>&quot;Fall&quot;</td><td>20</td><td>1</td><td>10.2</td><td>1</td><td>14.7</td><td>2</td><td>7</td><td>1</td><td>10.0</td><td>1</td><td>10.0</td><td>1</td><td>5.0</td><td>0</td><td>null</td><td>null</td><td>null</td><td>null</td><td>null</td><td>null</td><td>null</td><td>null</td><td>null</td><td>null</td><td>null</td><td>null</td><td>null</td><td>null</td><td>null</td><td>null</td><td>null</td><td>null</td><td>null</td><td>&quot;Summer&quot;</td><td>2.17</td><td>&quot;Fall&quot;</td><td>38</td><td>54</td><td>&quot;Summer&quot;</td><td>2</td></tr><tr><td>&quot;00115b9f&quot;</td><td>&quot;Winter&quot;</td><td>9</td><td>0</td><td>&quot;Fall&quot;</td><td>71</td><td>&quot;Summer&quot;</td><td>18.292347</td><td>56.0</td><td>81.6</td><td>null</td><td>60</td><td>97</td><td>117</td><td>&quot;Summer&quot;</td><td>6</td><td>9</td><td>37</td><td>&quot;Summer&quot;</td><td>18</td><td>1</td><td>null</td><td>null</td><td>null</td><td>null</td><td>5</td><td>0</td><td>7.0</td><td>0</td><td>7.0</td><td>0</td><td>7.0</td><td>1</td><td>&quot;Summer&quot;</td><td>3</td><td>3.84191</td><td>18.2943</td><td>1131.43</td><td>1923.44</td><td>15.5925</td><td>62.7757</td><td>14.074</td><td>4.22033</td><td>18.8243</td><td>2</td><td>30.4041</td><td>16.779</td><td>58.9338</td><td>26.4798</td><td>45.9966</td><td>null</td><td>null</td><td>&quot;Winter&quot;</td><td>2.451</td><td>&quot;Summer&quot;</td><td>31</td><td>45</td><td>&quot;Winter&quot;</td><td>0</td></tr><tr><td>&quot;0016bb22&quot;</td><td>&quot;Spring&quot;</td><td>18</td><td>1</td><td>&quot;Summer&quot;</td><td>null</td><td>null</td><td>null</td><td>null</td><td>null</td><td>null</td><td>null</td><td>null</td><td>null</td><td>null</td><td>null</td><td>null</td><td>null</td><td>null</td><td>null</td><td>null</td><td>null</td><td>null</td><td>null</td><td>null</td><td>null</td><td>null</td><td>null</td><td>null</td><td>null</td><td>null</td><td>null</td><td>null</td><td>null</td><td>null</td><td>null</td><td>null</td><td>null</td><td>null</td><td>null</td><td>null</td><td>null</td><td>null</td><td>null</td><td>null</td><td>null</td><td>null</td><td>null</td><td>null</td><td>null</td><td>&quot;Summer&quot;</td><td>1.04</td><td>null</td><td>null</td><td>null</td><td>null</td><td>null</td><td>null</td><td>null</td></tr><tr><td>&hellip;</td><td>&hellip;</td><td>&hellip;</td><td>&hellip;</td><td>&hellip;</td><td>&hellip;</td><td>&hellip;</td><td>&hellip;</td><td>&hellip;</td><td>&hellip;</td><td>&hellip;</td><td>&hellip;</td><td>&hellip;</td><td>&hellip;</td><td>&hellip;</td><td>&hellip;</td><td>&hellip;</td><td>&hellip;</td><td>&hellip;</td><td>&hellip;</td><td>&hellip;</td><td>&hellip;</td><td>&hellip;</td><td>&hellip;</td><td>&hellip;</td><td>&hellip;</td><td>&hellip;</td><td>&hellip;</td><td>&hellip;</td><td>&hellip;</td><td>&hellip;</td><td>&hellip;</td><td>&hellip;</td><td>&hellip;</td><td>&hellip;</td><td>&hellip;</td><td>&hellip;</td><td>&hellip;</td><td>&hellip;</td><td>&hellip;</td><td>&hellip;</td><td>&hellip;</td><td>&hellip;</td><td>&hellip;</td><td>&hellip;</td><td>&hellip;</td><td>&hellip;</td><td>&hellip;</td><td>&hellip;</td><td>&hellip;</td><td>&hellip;</td><td>&hellip;</td><td>&hellip;</td><td>&hellip;</td><td>&hellip;</td><td>&hellip;</td><td>&hellip;</td><td>&hellip;</td><td>&hellip;</td></tr><tr><td>&quot;00c0cd71&quot;</td><td>&quot;Winter&quot;</td><td>7</td><td>0</td><td>&quot;Summer&quot;</td><td>51</td><td>&quot;Spring&quot;</td><td>29.315775</td><td>54.0</td><td>121.6</td><td>null</td><td>80</td><td>75</td><td>99</td><td>&quot;Spring&quot;</td><td>4</td><td>5</td><td>32</td><td>&quot;Spring&quot;</td><td>6</td><td>1</td><td>null</td><td>null</td><td>null</td><td>null</td><td>0</td><td>0</td><td>12.0</td><td>1</td><td>15.0</td><td>1</td><td>12.0</td><td>1</td><td>null</td><td>null</td><td>null</td><td>null</td><td>null</td><td>null</td><td>null</td><td>null</td><td>null</td><td>null</td><td>null</td><td>null</td><td>null</td><td>null</td><td>null</td><td>null</td><td>null</td><td>null</td><td>null</td><td>null</td><td>null</td><td>&quot;Spring&quot;</td><td>35</td><td>50</td><td>&quot;Winter&quot;</td><td>2</td></tr><tr><td>&quot;00d56d4b&quot;</td><td>&quot;Spring&quot;</td><td>5</td><td>1</td><td>&quot;Summer&quot;</td><td>80</td><td>&quot;Spring&quot;</td><td>17.284504</td><td>44.0</td><td>47.6</td><td>null</td><td>61</td><td>76</td><td>109</td><td>&quot;Spring&quot;</td><td>null</td><td>null</td><td>null</td><td>&quot;Spring&quot;</td><td>0</td><td>0</td><td>null</td><td>null</td><td>null</td><td>null</td><td>0</td><td>0</td><td>10.5</td><td>1</td><td>10.0</td><td>1</td><td>7.0</td><td>1</td><td>null</td><td>null</td><td>null</td><td>null</td><td>null</td><td>null</td><td>null</td><td>null</td><td>null</td><td>null</td><td>null</td><td>null</td><td>null</td><td>null</td><td>null</td><td>null</td><td>null</td><td>null</td><td>null</td><td>null</td><td>null</td><td>&quot;Spring&quot;</td><td>37</td><td>53</td><td>&quot;Spring&quot;</td><td>0</td></tr><tr><td>&quot;00d9913d&quot;</td><td>&quot;Fall&quot;</td><td>10</td><td>1</td><td>null</td><td>null</td><td>&quot;Fall&quot;</td><td>19.893157</td><td>55.0</td><td>85.6</td><td>30.0</td><td>null</td><td>81</td><td>null</td><td>null</td><td>null</td><td>null</td><td>null</td><td>&quot;Fall&quot;</td><td>5</td><td>0</td><td>null</td><td>null</td><td>null</td><td>null</td><td>0</td><td>0</td><td>0.0</td><td>0</td><td>0.0</td><td>0</td><td>9.0</td><td>1</td><td>null</td><td>null</td><td>null</td><td>null</td><td>null</td><td>null</td><td>null</td><td>null</td><td>null</td><td>null</td><td>null</td><td>null</td><td>null</td><td>null</td><td>null</td><td>null</td><td>null</td><td>null</td><td>null</td><td>null</td><td>null</td><td>null</td><td>null</td><td>null</td><td>&quot;Fall&quot;</td><td>1</td></tr><tr><td>&quot;00e6167c&quot;</td><td>&quot;Winter&quot;</td><td>6</td><td>0</td><td>&quot;Spring&quot;</td><td>60</td><td>&quot;Winter&quot;</td><td>30.094649</td><td>37.5</td><td>60.2</td><td>24.0</td><td>61</td><td>91</td><td>95</td><td>null</td><td>null</td><td>null</td><td>null</td><td>&quot;Winter&quot;</td><td>6</td><td>1</td><td>null</td><td>null</td><td>null</td><td>null</td><td>0</td><td>0</td><td>4.0</td><td>0</td><td>4.0</td><td>0</td><td>7.0</td><td>1</td><td>&quot;Winter&quot;</td><td>2</td><td>2.75035</td><td>17.2738</td><td>1003.07</td><td>1504.61</td><td>15.1456</td><td>49.1034</td><td>14.0898</td><td>3.18407</td><td>11.0966</td><td>1</td><td>23.6182</td><td>10.3396</td><td>46.3531</td><td>19.8886</td><td>38.7638</td><td>null</td><td>null</td><td>null</td><td>null</td><td>&quot;Winter&quot;</td><td>39</td><td>55</td><td>&quot;Winter&quot;</td><td>3</td></tr><tr><td>&quot;00ebc35d&quot;</td><td>&quot;Winter&quot;</td><td>10</td><td>0</td><td>null</td><td>null</td><td>null</td><td>null</td><td>null</td><td>null</td><td>null</td><td>null</td><td>null</td><td>null</td><td>null</td><td>null</td><td>null</td><td>null</td><td>&quot;Spring&quot;</td><td>null</td><td>null</td><td>null</td><td>null</td><td>null</td><td>null</td><td>null</td><td>null</td><td>null</td><td>null</td><td>null</td><td>null</td><td>null</td><td>null</td><td>null</td><td>null</td><td>null</td><td>null</td><td>null</td><td>null</td><td>null</td><td>null</td><td>null</td><td>null</td><td>null</td><td>null</td><td>null</td><td>null</td><td>null</td><td>null</td><td>null</td><td>null</td><td>null</td><td>null</td><td>null</td><td>null</td><td>null</td><td>null</td><td>&quot;Winter&quot;</td><td>2</td></tr></tbody></table></div>"
            ]
          },
          "metadata": {},
          "execution_count": 17
        }
      ],
      "execution_count": 17
    },
    {
      "cell_type": "markdown",
      "source": [
        "For a supervised learning, we need the target value, but some (sii) are missing. So we only use the part with valid target value(sii)."
      ],
      "metadata": {
        "id": "btMPu9zQ_L8c"
      }
    },
    {
      "cell_type": "code",
      "source": [
        "supervised_usable = (\n",
        "    train\n",
        "    .filter(pl.col('sii').is_not_null())\n",
        ")\n",
        "\n",
        "missing_count = (\n",
        "    supervised_usable\n",
        "    .null_count()\n",
        "    .transpose(include_header=True,\n",
        "               header_name='feature',\n",
        "               column_names=['null_count'])\n",
        "    .sort('null_count', descending=True)\n",
        "    .with_columns((pl.col('null_count') / len(supervised_usable)).alias('null_ratio'))\n",
        ")\n",
        "plt.figure(figsize=(6, 15))\n",
        "plt.title(f'Missing values over the {len(supervised_usable)} samples which have a target')\n",
        "plt.barh(np.arange(len(missing_count)), missing_count.get_column('null_ratio'), color='coral', label='missing')\n",
        "plt.barh(np.arange(len(missing_count)),\n",
        "         1 - missing_count.get_column('null_ratio'),\n",
        "         left=missing_count.get_column('null_ratio'),\n",
        "         color='darkseagreen', label='available')\n",
        "plt.yticks(np.arange(len(missing_count)), missing_count.get_column('feature'))\n",
        "plt.gca().xaxis.set_major_formatter(PercentFormatter(xmax=1, decimals=0))\n",
        "plt.xlim(0, 1)\n",
        "plt.legend()\n",
        "plt.show()"
      ],
      "metadata": {
        "execution": {
          "iopub.status.busy": "2024-10-18T16:09:56.227139Z",
          "iopub.execute_input": "2024-10-18T16:09:56.227446Z",
          "iopub.status.idle": "2024-10-18T16:09:57.529306Z",
          "shell.execute_reply.started": "2024-10-18T16:09:56.227407Z",
          "shell.execute_reply": "2024-10-18T16:09:57.528343Z"
        },
        "trusted": true,
        "id": "QRlNY6j7_L8c"
      },
      "outputs": [],
      "execution_count": null
    },
    {
      "cell_type": "code",
      "source": [
        "print(train.select(pl.col('PCIAT-PCIAT_Total').is_null() == pl.col('sii').is_null()).to_series().mean())\n",
        "\n",
        "(train\n",
        " .select(pl.col('PCIAT-PCIAT_Total'))\n",
        " .group_by(train.get_column('sii'))\n",
        " .agg(pl.col('PCIAT-PCIAT_Total').min().alias('PCIAT-PCIAT_Total min'),\n",
        "      pl.col('PCIAT-PCIAT_Total').max().alias('PCIAT-PCIAT_Total max'),\n",
        "      pl.col('PCIAT-PCIAT_Total').len().alias('count'))\n",
        " .sort('sii')\n",
        ")"
      ],
      "metadata": {
        "execution": {
          "iopub.status.busy": "2024-10-18T16:09:57.530503Z",
          "iopub.execute_input": "2024-10-18T16:09:57.530929Z",
          "iopub.status.idle": "2024-10-18T16:09:57.563577Z",
          "shell.execute_reply.started": "2024-10-18T16:09:57.530868Z",
          "shell.execute_reply": "2024-10-18T16:09:57.562677Z"
        },
        "trusted": true,
        "id": "xBPbg7to_L8c"
      },
      "outputs": [],
      "execution_count": null
    },
    {
      "cell_type": "markdown",
      "source": [
        "**Insight:**\n",
        "\n",
        "This dataset is imbalanced. Half of the samples are in class 0, while very few in class 3.\n"
      ],
      "metadata": {
        "id": "I44V7wPf_L8d"
      }
    },
    {
      "cell_type": "code",
      "source": [
        "print('Columns missing in test:')\n",
        "print([f for f in train.columns if f not in test.columns])"
      ],
      "metadata": {
        "execution": {
          "iopub.status.busy": "2024-10-18T16:09:57.564733Z",
          "iopub.execute_input": "2024-10-18T16:09:57.565047Z",
          "iopub.status.idle": "2024-10-18T16:09:57.580261Z",
          "shell.execute_reply.started": "2024-10-18T16:09:57.565015Z",
          "shell.execute_reply": "2024-10-18T16:09:57.579373Z"
        },
        "trusted": true,
        "id": "nJuei1jA_L8d"
      },
      "outputs": [],
      "execution_count": null
    },
    {
      "cell_type": "markdown",
      "source": [
        "## Demographics\n"
      ],
      "metadata": {
        "id": "d07FvK2W_L8d"
      }
    },
    {
      "cell_type": "markdown",
      "source": [
        "Now we look at some basic demographics."
      ],
      "metadata": {
        "id": "EFxZRJSj_L8d"
      }
    },
    {
      "cell_type": "code",
      "source": [
        "vc = train.get_column('Basic_Demos-Enroll_Season').value_counts()\n",
        "plt.pie(vc.get_column('count'), labels=vc.get_column('Basic_Demos-Enroll_Season'))\n",
        "plt.title('Season of enrollment')\n",
        "plt.show()"
      ],
      "metadata": {
        "execution": {
          "iopub.status.busy": "2024-10-18T16:09:57.581443Z",
          "iopub.execute_input": "2024-10-18T16:09:57.581807Z",
          "iopub.status.idle": "2024-10-18T16:09:57.69387Z",
          "shell.execute_reply.started": "2024-10-18T16:09:57.581765Z",
          "shell.execute_reply": "2024-10-18T16:09:57.6927Z"
        },
        "trusted": true,
        "id": "SpS2p3WE_L8d"
      },
      "outputs": [],
      "execution_count": null
    },
    {
      "cell_type": "code",
      "source": [
        "vc = train.get_column('Basic_Demos-Sex').value_counts()\n",
        "plt.pie(vc.get_column('count'), labels=['boys', 'girls'])\n",
        "plt.title('Sex of participant')\n",
        "plt.show()"
      ],
      "metadata": {
        "execution": {
          "iopub.status.busy": "2024-10-18T16:09:57.695311Z",
          "iopub.execute_input": "2024-10-18T16:09:57.696021Z",
          "iopub.status.idle": "2024-10-18T16:09:57.856546Z",
          "shell.execute_reply.started": "2024-10-18T16:09:57.695978Z",
          "shell.execute_reply": "2024-10-18T16:09:57.855264Z"
        },
        "trusted": true,
        "id": "bcszBu9I_L8d"
      },
      "outputs": [],
      "execution_count": null
    },
    {
      "cell_type": "code",
      "source": [
        "_, axs = plt.subplots(2, 1, sharex=True)\n",
        "for sex in range(2):\n",
        "    ax = axs.ravel()[sex]\n",
        "    vc = train.filter(pl.col('Basic_Demos-Sex') == sex).get_column('Basic_Demos-Age').value_counts()\n",
        "    ax.bar(vc.get_column('Basic_Demos-Age'),\n",
        "           vc.get_column('count'),\n",
        "           color=['lightblue', 'coral'][sex],\n",
        "           label=['boys', 'girls'][sex])\n",
        "    ax.xaxis.set_major_locator(MaxNLocator(integer=True))\n",
        "    ax.set_ylabel('count')\n",
        "    ax.legend()\n",
        "plt.suptitle('Age distribution')\n",
        "axs.ravel()[1].set_xlabel('years')\n",
        "plt.show()"
      ],
      "metadata": {
        "execution": {
          "iopub.status.busy": "2024-10-18T16:09:57.858314Z",
          "iopub.execute_input": "2024-10-18T16:09:57.859176Z",
          "iopub.status.idle": "2024-10-18T16:09:58.38478Z",
          "shell.execute_reply.started": "2024-10-18T16:09:57.859106Z",
          "shell.execute_reply": "2024-10-18T16:09:58.383739Z"
        },
        "trusted": true,
        "id": "UBV-9kz3_L8d"
      },
      "outputs": [],
      "execution_count": null
    },
    {
      "cell_type": "code",
      "source": [
        "_, axs = plt.subplots(2, 1, sharex=True, sharey=True)\n",
        "for sex in range(2):\n",
        "    ax = axs.ravel()[sex]\n",
        "    vc = train.filter(pl.col('Basic_Demos-Sex') == sex).get_column('sii').value_counts()\n",
        "    ax.bar(vc.get_column('sii'),\n",
        "           vc.get_column('count') / vc.get_column('count').sum(),\n",
        "           color=['lightblue', 'coral'][sex],\n",
        "           label=['boys', 'girls'][sex])\n",
        "    ax.set_xticks(np.arange(4), target_labels)\n",
        "    ax.yaxis.set_major_formatter(PercentFormatter(xmax=1, decimals=0))\n",
        "    ax.set_ylabel('count')\n",
        "    ax.legend()\n",
        "plt.suptitle('Target distribution')\n",
        "axs.ravel()[1].set_xlabel('Severity Impairment Index (sii)')\n",
        "plt.show()"
      ],
      "metadata": {
        "execution": {
          "iopub.status.busy": "2024-10-18T16:09:58.388952Z",
          "iopub.execute_input": "2024-10-18T16:09:58.389658Z",
          "iopub.status.idle": "2024-10-18T16:09:58.738451Z",
          "shell.execute_reply.started": "2024-10-18T16:09:58.389614Z",
          "shell.execute_reply": "2024-10-18T16:09:58.737597Z"
        },
        "trusted": true,
        "id": "AjBctPE3_L8d"
      },
      "outputs": [],
      "execution_count": null
    },
    {
      "cell_type": "markdown",
      "source": [
        "## Now we look at correlations"
      ],
      "metadata": {
        "id": "CrQ4O9Do_L8d"
      }
    },
    {
      "cell_type": "code",
      "source": [
        "plt.figure(figsize=(14, 12))\n",
        "corr_matrix = supervised_usable.select([\n",
        "    'PCIAT-PCIAT_Total', 'Basic_Demos-Age', 'Basic_Demos-Sex', 'Physical-BMI',\n",
        "    'Physical-Height', 'Physical-Weight', 'Physical-Waist_Circumference',\n",
        "    'Physical-Diastolic_BP', 'Physical-Systolic_BP', 'Physical-HeartRate',\n",
        "    'PreInt_EduHx-computerinternet_hoursday', 'SDS-SDS_Total_T', 'PAQ_A-PAQ_A_Total',\n",
        "    'PAQ_C-PAQ_C_Total', 'Fitness_Endurance-Max_Stage', 'Fitness_Endurance-Time_Mins','Fitness_Endurance-Time_Sec',\n",
        "    'FGC-FGC_CU', 'FGC-FGC_GSND','FGC-FGC_GSD','FGC-FGC_PU','FGC-FGC_SRL','FGC-FGC_SRR','FGC-FGC_TL','BIA-BIA_Activity_Level_num',\n",
        "    'BIA-BIA_BMC', 'BIA-BIA_BMI', 'BIA-BIA_BMR', 'BIA-BIA_DEE', 'BIA-BIA_ECW', 'BIA-BIA_FFM',\n",
        "    'BIA-BIA_FFMI','BIA-BIA_FMI', 'BIA-BIA_Fat','BIA-BIA_Frame_num','BIA-BIA_ICW','BIA-BIA_LDM','BIA-BIA_LST',\n",
        "    'BIA-BIA_SMM','BIA-BIA_TBW'\n",
        "    # Add other relevant columns\n",
        "]).to_pandas().corr()\n",
        "\n",
        "sii_corr = corr_matrix['PCIAT-PCIAT_Total'].drop('PCIAT-PCIAT_Total')\n",
        "filtered_corr = sii_corr[(sii_corr > 0.1) | (sii_corr < -0.1)]\n",
        "\n",
        "print(filtered_corr)\n",
        "\n",
        "plt.figure(figsize=(8, 6))\n",
        "filtered_corr.sort_values().plot(kind='barh', color='coral')\n",
        "plt.title('Features with Correlation > 0.1 or < -0.1 with PCIAT-PCIAT_Total')\n",
        "plt.xlabel('Correlation coefficient')\n",
        "plt.ylabel('Features')\n",
        "plt.show()"
      ],
      "metadata": {
        "execution": {
          "iopub.status.busy": "2024-10-18T16:09:58.739452Z",
          "iopub.execute_input": "2024-10-18T16:09:58.739726Z",
          "iopub.status.idle": "2024-10-18T16:09:59.168113Z",
          "shell.execute_reply.started": "2024-10-18T16:09:58.739696Z",
          "shell.execute_reply": "2024-10-18T16:09:59.167179Z"
        },
        "trusted": true,
        "id": "cUww22Lp_L8d"
      },
      "outputs": [],
      "execution_count": null
    },
    {
      "cell_type": "markdown",
      "source": [
        "## Actigraphy (time series)"
      ],
      "metadata": {
        "id": "a6sOO7Bw_L8d"
      }
    },
    {
      "cell_type": "code",
      "source": [
        "actigraphy = pl.read_parquet('/kaggle/input/child-mind-institute-problematic-internet-use/series_train.parquet/id=0417c91e/part-0.parquet')\n",
        "actigraphy"
      ],
      "metadata": {
        "execution": {
          "iopub.status.busy": "2024-10-18T16:09:59.16942Z",
          "iopub.execute_input": "2024-10-18T16:09:59.169825Z",
          "iopub.status.idle": "2024-10-18T16:09:59.258488Z",
          "shell.execute_reply.started": "2024-10-18T16:09:59.16978Z",
          "shell.execute_reply": "2024-10-18T16:09:59.257589Z"
        },
        "trusted": true,
        "id": "eddfKu_B_L8e"
      },
      "outputs": [],
      "execution_count": null
    },
    {
      "cell_type": "code",
      "source": [
        "def analyze_actigraphy(id, only_one_week=False, small=False):\n",
        "    actigraphy = pl.read_parquet(f'/kaggle/input/child-mind-institute-problematic-internet-use/series_train.parquet/id={id}/part-0.parquet')\n",
        "    day = actigraphy.get_column('relative_date_PCIAT') + actigraphy.get_column('time_of_day') / 86400e9\n",
        "    sample = train.filter(pl.col('id') == id)\n",
        "    age = sample.get_column('Basic_Demos-Age').item()\n",
        "    sex = ['boy', 'girl'][sample.get_column('Basic_Demos-Sex').item()]\n",
        "    actigraphy = (\n",
        "        actigraphy\n",
        "        .with_columns(\n",
        "            (day.diff() * 86400).alias('diff_seconds'),\n",
        "            (np.sqrt(np.square(pl.col('X')) + np.square(pl.col('Y')) + np.square(pl.col('Z'))).alias('norm'))\n",
        "        )\n",
        "    )\n",
        "\n",
        "    if only_one_week:\n",
        "        start = np.ceil(day.min())\n",
        "        mask = (start <= day.to_numpy()) & (day.to_numpy() <= start + 7*3)\n",
        "        mask &= ~ actigraphy.get_column('non-wear_flag').cast(bool).to_numpy()\n",
        "    else:\n",
        "        mask = np.full(len(day), True)\n",
        "\n",
        "    if small:\n",
        "        timelines = [\n",
        "            ('enmo', 'forestgreen'),\n",
        "            ('light', 'orange'),\n",
        "        ]\n",
        "    else:\n",
        "        timelines = [\n",
        "            ('X', 'm'),\n",
        "            ('Y', 'm'),\n",
        "            ('Z', 'm'),\n",
        "#             ('norm', 'c'),\n",
        "            ('enmo', 'forestgreen'),\n",
        "            ('anglez', 'lightblue'),\n",
        "            ('light', 'orange'),\n",
        "            ('non-wear_flag', 'chocolate')\n",
        "    #         ('diff_seconds', 'k'),\n",
        "        ]\n",
        "\n",
        "    _, axs = plt.subplots(len(timelines), 1, sharex=True, figsize=(12, len(timelines) * 1.1 + 0.5))\n",
        "    for ax, (feature, color) in zip(axs, timelines):\n",
        "        ax.set_facecolor('#eeeeee')\n",
        "        ax.scatter(day.to_numpy()[mask],\n",
        "                   actigraphy.get_column(feature).to_numpy()[mask],\n",
        "                   color=color, label=feature, s=1)\n",
        "        ax.legend(loc='upper left', facecolor='#eeeeee')\n",
        "        if feature == 'diff_seconds':\n",
        "            ax.set_ylim(-0.5, 20.5)\n",
        "    axs[-1].set_xlabel('day')\n",
        "    axs[-1].xaxis.set_major_locator(MaxNLocator(integer=True))\n",
        "    plt.tight_layout()\n",
        "    axs[0].set_title(f'id={id}, {sex}, age={age}')\n",
        "    plt.show()\n",
        "\n",
        "analyze_actigraphy('0417c91e', only_one_week=False)"
      ],
      "metadata": {
        "execution": {
          "iopub.status.busy": "2024-10-18T16:09:59.26003Z",
          "iopub.execute_input": "2024-10-18T16:09:59.260426Z",
          "iopub.status.idle": "2024-10-18T16:10:01.781769Z",
          "shell.execute_reply.started": "2024-10-18T16:09:59.260374Z",
          "shell.execute_reply": "2024-10-18T16:10:01.780855Z"
        },
        "trusted": true,
        "id": "kCTqIMoV_L8e"
      },
      "outputs": [],
      "execution_count": null
    },
    {
      "cell_type": "code",
      "source": [
        "SEED = 42\n",
        "n_splits = 5"
      ],
      "metadata": {
        "execution": {
          "iopub.status.busy": "2024-10-18T16:10:01.783109Z",
          "iopub.execute_input": "2024-10-18T16:10:01.783517Z",
          "iopub.status.idle": "2024-10-18T16:10:01.788293Z",
          "shell.execute_reply.started": "2024-10-18T16:10:01.783475Z",
          "shell.execute_reply": "2024-10-18T16:10:01.78729Z"
        },
        "trusted": true,
        "id": "DBVKrVeI_L8e"
      },
      "outputs": [],
      "execution_count": null
    },
    {
      "cell_type": "markdown",
      "source": [
        "## Feature Engineering\n",
        "\n",
        "- **Feature Selection**: The dataset contains features related to physical characteristics (e.g., BMI, Height, Weight), behavioral aspects (e.g., internet usage), and fitness data (e.g., endurance time).\n",
        "- **Categorical Feature Encoding**: Categorical features are mapped to numerical values using custom mappings for each unique category within the dataset. This ensures compatibility with machine learning algorithms that require numerical input.\n",
        "- **Time Series Aggregation**: Time series statistics (e.g., mean, standard deviation) from the actigraphy data are computed and merged into the main dataset to create additional features for model training.\n"
      ],
      "metadata": {
        "id": "-2azHndW_L8e"
      }
    },
    {
      "cell_type": "code",
      "source": [
        "def process_file(filename, dirname):\n",
        "    df = pd.read_parquet(os.path.join(dirname, filename, 'part-0.parquet'))\n",
        "    df.drop('step', axis=1, inplace=True)\n",
        "    return df.describe().values.reshape(-1), filename.split('=')[1]\n",
        "\n",
        "def load_time_series(dirname) -> pd.DataFrame:\n",
        "    ids = os.listdir(dirname)\n",
        "\n",
        "    with ThreadPoolExecutor() as executor:\n",
        "        results = list(tqdm(executor.map(lambda fname: process_file(fname, dirname), ids), total=len(ids)))\n",
        "\n",
        "    stats, indexes = zip(*results)\n",
        "\n",
        "    df = pd.DataFrame(stats, columns=[f\"stat_{i}\" for i in range(len(stats[0]))])\n",
        "    df['id'] = indexes\n",
        "    return df\n",
        "\n",
        "\n",
        "class AutoEncoder(nn.Module):\n",
        "    def __init__(self, input_dim, encoding_dim):\n",
        "        super(AutoEncoder, self).__init__()\n",
        "        self.encoder = nn.Sequential(\n",
        "            nn.Linear(input_dim, encoding_dim*3),\n",
        "            nn.ReLU(),\n",
        "            nn.Linear(encoding_dim*3, encoding_dim*2),\n",
        "            nn.ReLU(),\n",
        "            nn.Linear(encoding_dim*2, encoding_dim),\n",
        "            nn.ReLU()\n",
        "        )\n",
        "        self.decoder = nn.Sequential(\n",
        "            nn.Linear(encoding_dim, input_dim*2),\n",
        "            nn.ReLU(),\n",
        "            nn.Linear(input_dim*2, input_dim*3),\n",
        "            nn.ReLU(),\n",
        "            nn.Linear(input_dim*3, input_dim),\n",
        "            nn.Sigmoid()\n",
        "        )\n",
        "\n",
        "    def forward(self, x):\n",
        "        encoded = self.encoder(x)\n",
        "        decoded = self.decoder(encoded)\n",
        "        return decoded\n",
        "\n",
        "\n",
        "def perform_autoencoder(df, encoding_dim=50, epochs=50, batch_size=32):\n",
        "    scaler = StandardScaler()\n",
        "    df_scaled = scaler.fit_transform(df)\n",
        "\n",
        "    data_tensor = torch.FloatTensor(df_scaled)\n",
        "\n",
        "    input_dim = data_tensor.shape[1]\n",
        "    autoencoder = AutoEncoder(input_dim, encoding_dim)\n",
        "\n",
        "    criterion = nn.MSELoss()\n",
        "    optimizer = optim.Adam(autoencoder.parameters())\n",
        "\n",
        "    for epoch in range(epochs):\n",
        "        for i in range(0, len(data_tensor), batch_size):\n",
        "            batch = data_tensor[i : i + batch_size]\n",
        "            optimizer.zero_grad()\n",
        "            reconstructed = autoencoder(batch)\n",
        "            loss = criterion(reconstructed, batch)\n",
        "            loss.backward()\n",
        "            optimizer.step()\n",
        "\n",
        "        if (epoch + 1) % 10 == 0:\n",
        "            print(f'Epoch [{epoch + 1}/{epochs}], Loss: {loss.item():.4f}]')\n",
        "\n",
        "    with torch.no_grad():\n",
        "        encoded_data = autoencoder.encoder(data_tensor).numpy()\n",
        "\n",
        "    df_encoded = pd.DataFrame(encoded_data, columns=[f'Enc_{i + 1}' for i in range(encoded_data.shape[1])])\n",
        "\n",
        "    return df_encoded\n",
        "\n",
        "def feature_engineering(df):\n",
        "    season_cols = [col for col in df.columns if 'Season' in col]\n",
        "    df = df.drop(season_cols, axis=1)\n",
        "    df['BMI_Age'] = df['Physical-BMI'] * df['Basic_Demos-Age']\n",
        "    df['Internet_Hours_Age'] = df['PreInt_EduHx-computerinternet_hoursday'] * df['Basic_Demos-Age']\n",
        "    df['BMI_Internet_Hours'] = df['Physical-BMI'] * df['PreInt_EduHx-computerinternet_hoursday']\n",
        "    df['BFP_BMI'] = df['BIA-BIA_Fat'] / df['BIA-BIA_BMI']\n",
        "    df['FFMI_BFP'] = df['BIA-BIA_FFMI'] / df['BIA-BIA_Fat']\n",
        "    df['FMI_BFP'] = df['BIA-BIA_FMI'] / df['BIA-BIA_Fat']\n",
        "    df['LST_TBW'] = df['BIA-BIA_LST'] / df['BIA-BIA_TBW']\n",
        "    df['BFP_BMR'] = df['BIA-BIA_Fat'] * df['BIA-BIA_BMR']\n",
        "    df['BFP_DEE'] = df['BIA-BIA_Fat'] * df['BIA-BIA_DEE']\n",
        "    df['BMR_Weight'] = df['BIA-BIA_BMR'] / df['Physical-Weight']\n",
        "    df['DEE_Weight'] = df['BIA-BIA_DEE'] / df['Physical-Weight']\n",
        "    df['SMM_Height'] = df['BIA-BIA_SMM'] / df['Physical-Height']\n",
        "    df['Muscle_to_Fat'] = df['BIA-BIA_SMM'] / df['BIA-BIA_FMI']\n",
        "    df['Hydration_Status'] = df['BIA-BIA_TBW'] / df['Physical-Weight']\n",
        "    df['ICW_TBW'] = df['BIA-BIA_ICW'] / df['BIA-BIA_TBW']\n",
        "\n",
        "    return df"
      ],
      "metadata": {
        "execution": {
          "iopub.status.busy": "2024-10-18T16:10:01.789564Z",
          "iopub.execute_input": "2024-10-18T16:10:01.789867Z",
          "iopub.status.idle": "2024-10-18T16:10:01.814947Z",
          "shell.execute_reply.started": "2024-10-18T16:10:01.789835Z",
          "shell.execute_reply": "2024-10-18T16:10:01.813945Z"
        },
        "trusted": true,
        "id": "Ds5jaE4x_L8e"
      },
      "outputs": [],
      "execution_count": null
    },
    {
      "cell_type": "code",
      "source": [
        "train = pd.read_csv('/kaggle/input/child-mind-institute-problematic-internet-use/train.csv')\n",
        "test = pd.read_csv('/kaggle/input/child-mind-institute-problematic-internet-use/test.csv')\n",
        "sample = pd.read_csv('/kaggle/input/child-mind-institute-problematic-internet-use/sample_submission.csv')\n",
        "\n",
        "train_ts = load_time_series(\"/kaggle/input/child-mind-institute-problematic-internet-use/series_train.parquet\")\n",
        "test_ts = load_time_series(\"/kaggle/input/child-mind-institute-problematic-internet-use/series_test.parquet\")\n",
        "\n",
        "df_train = train_ts.drop('id', axis=1)\n",
        "df_test = test_ts.drop('id', axis=1)\n",
        "\n",
        "train_ts_encoded = perform_autoencoder(df_train, encoding_dim=60, epochs=100, batch_size=32)\n",
        "test_ts_encoded = perform_autoencoder(df_test, encoding_dim=60, epochs=100, batch_size=32)\n",
        "\n",
        "time_series_cols = train_ts_encoded.columns.tolist()\n",
        "train_ts_encoded[\"id\"]=train_ts[\"id\"]\n",
        "test_ts_encoded['id']=test_ts[\"id\"]\n",
        "\n",
        "train = pd.merge(train, train_ts_encoded, how=\"left\", on='id')\n",
        "test = pd.merge(test, test_ts_encoded, how=\"left\", on='id')\n",
        "\n",
        "imputer = KNNImputer(n_neighbors=5)\n",
        "numeric_cols = train.select_dtypes(include=['float64', 'int64']).columns\n",
        "imputed_data = imputer.fit_transform(train[numeric_cols])\n",
        "train_imputed = pd.DataFrame(imputed_data, columns=numeric_cols)\n",
        "train_imputed['sii'] = train_imputed['sii'].round().astype(int)\n",
        "for col in train.columns:\n",
        "    if col not in numeric_cols:\n",
        "        train_imputed[col] = train[col]\n",
        "\n",
        "train = train_imputed\n",
        "\n",
        "train = feature_engineering(train)\n",
        "train = train.dropna(thresh=10, axis=0)\n",
        "test = feature_engineering(test)\n",
        "\n",
        "train = train.drop('id', axis=1)\n",
        "test  = test .drop('id', axis=1)\n",
        "\n",
        "\n",
        "featuresCols = ['Basic_Demos-Age', 'Basic_Demos-Sex',\n",
        "                'CGAS-CGAS_Score', 'Physical-BMI',\n",
        "                'Physical-Height', 'Physical-Weight', 'Physical-Waist_Circumference',\n",
        "                'Physical-Diastolic_BP', 'Physical-HeartRate', 'Physical-Systolic_BP',\n",
        "                'Fitness_Endurance-Max_Stage',\n",
        "                'Fitness_Endurance-Time_Mins', 'Fitness_Endurance-Time_Sec',\n",
        "                'FGC-FGC_CU', 'FGC-FGC_CU_Zone', 'FGC-FGC_GSND',\n",
        "                'FGC-FGC_GSND_Zone', 'FGC-FGC_GSD', 'FGC-FGC_GSD_Zone', 'FGC-FGC_PU',\n",
        "                'FGC-FGC_PU_Zone', 'FGC-FGC_SRL', 'FGC-FGC_SRL_Zone', 'FGC-FGC_SRR',\n",
        "                'FGC-FGC_SRR_Zone', 'FGC-FGC_TL', 'FGC-FGC_TL_Zone',\n",
        "                'BIA-BIA_Activity_Level_num', 'BIA-BIA_BMC', 'BIA-BIA_BMI',\n",
        "                'BIA-BIA_BMR', 'BIA-BIA_DEE', 'BIA-BIA_ECW', 'BIA-BIA_FFM',\n",
        "                'BIA-BIA_FFMI', 'BIA-BIA_FMI', 'BIA-BIA_Fat', 'BIA-BIA_Frame_num',\n",
        "                'BIA-BIA_ICW', 'BIA-BIA_LDM', 'BIA-BIA_LST', 'BIA-BIA_SMM',\n",
        "                'BIA-BIA_TBW', 'PAQ_A-PAQ_A_Total',\n",
        "                'PAQ_C-PAQ_C_Total', 'SDS-SDS_Total_Raw',\n",
        "                'SDS-SDS_Total_T',\n",
        "                'PreInt_EduHx-computerinternet_hoursday', 'sii', 'BMI_Age','Internet_Hours_Age','BMI_Internet_Hours',\n",
        "                'BFP_BMI', 'FFMI_BFP', 'FMI_BFP', 'LST_TBW', 'BFP_BMR', 'BFP_DEE', 'BMR_Weight', 'DEE_Weight',\n",
        "                'SMM_Height', 'Muscle_to_Fat', 'Hydration_Status', 'ICW_TBW']\n",
        "\n",
        "featuresCols += time_series_cols\n",
        "\n",
        "train = train[featuresCols]\n",
        "train = train.dropna(subset='sii')\n",
        "\n",
        "featuresCols = ['Basic_Demos-Age', 'Basic_Demos-Sex',\n",
        "                'CGAS-CGAS_Score', 'Physical-BMI',\n",
        "                'Physical-Height', 'Physical-Weight', 'Physical-Waist_Circumference',\n",
        "                'Physical-Diastolic_BP', 'Physical-HeartRate', 'Physical-Systolic_BP',\n",
        "                'Fitness_Endurance-Max_Stage',\n",
        "                'Fitness_Endurance-Time_Mins', 'Fitness_Endurance-Time_Sec',\n",
        "                'FGC-FGC_CU', 'FGC-FGC_CU_Zone', 'FGC-FGC_GSND',\n",
        "                'FGC-FGC_GSND_Zone', 'FGC-FGC_GSD', 'FGC-FGC_GSD_Zone', 'FGC-FGC_PU',\n",
        "                'FGC-FGC_PU_Zone', 'FGC-FGC_SRL', 'FGC-FGC_SRL_Zone', 'FGC-FGC_SRR',\n",
        "                'FGC-FGC_SRR_Zone', 'FGC-FGC_TL', 'FGC-FGC_TL_Zone',\n",
        "                'BIA-BIA_Activity_Level_num', 'BIA-BIA_BMC', 'BIA-BIA_BMI',\n",
        "                'BIA-BIA_BMR', 'BIA-BIA_DEE', 'BIA-BIA_ECW', 'BIA-BIA_FFM',\n",
        "                'BIA-BIA_FFMI', 'BIA-BIA_FMI', 'BIA-BIA_Fat', 'BIA-BIA_Frame_num',\n",
        "                'BIA-BIA_ICW', 'BIA-BIA_LDM', 'BIA-BIA_LST', 'BIA-BIA_SMM',\n",
        "                'BIA-BIA_TBW', 'PAQ_A-PAQ_A_Total',\n",
        "                'PAQ_C-PAQ_C_Total', 'SDS-SDS_Total_Raw',\n",
        "                'SDS-SDS_Total_T',\n",
        "                'PreInt_EduHx-computerinternet_hoursday', 'BMI_Age','Internet_Hours_Age','BMI_Internet_Hours',\n",
        "                'BFP_BMI', 'FFMI_BFP', 'FMI_BFP', 'LST_TBW', 'BFP_BMR', 'BFP_DEE', 'BMR_Weight', 'DEE_Weight',\n",
        "                'SMM_Height', 'Muscle_to_Fat', 'Hydration_Status', 'ICW_TBW']\n",
        "\n",
        "featuresCols += time_series_cols\n",
        "test = test[featuresCols]"
      ],
      "metadata": {
        "execution": {
          "iopub.status.busy": "2024-10-18T16:10:01.816232Z",
          "iopub.execute_input": "2024-10-18T16:10:01.816564Z",
          "iopub.status.idle": "2024-10-18T16:11:46.802934Z",
          "shell.execute_reply.started": "2024-10-18T16:10:01.81653Z",
          "shell.execute_reply": "2024-10-18T16:11:46.801931Z"
        },
        "trusted": true,
        "id": "ftT3yeS0_L8e"
      },
      "outputs": [],
      "execution_count": null
    },
    {
      "cell_type": "code",
      "source": [
        "if np.any(np.isinf(train)):\n",
        "    train = train.replace([np.inf, -np.inf], np.nan)\n",
        "\n",
        "def quadratic_weighted_kappa(y_true, y_pred):\n",
        "    return cohen_kappa_score(y_true, y_pred, weights='quadratic')\n",
        "\n",
        "def threshold_Rounder(oof_non_rounded, thresholds):\n",
        "    return np.where(oof_non_rounded < thresholds[0], 0,\n",
        "                    np.where(oof_non_rounded < thresholds[1], 1,\n",
        "                             np.where(oof_non_rounded < thresholds[2], 2, 3)))\n",
        "\n",
        "def evaluate_predictions(thresholds, y_true, oof_non_rounded):\n",
        "    rounded_p = threshold_Rounder(oof_non_rounded, thresholds)\n",
        "    return -quadratic_weighted_kappa(y_true, rounded_p)"
      ],
      "metadata": {
        "execution": {
          "iopub.status.busy": "2024-10-18T16:11:46.804343Z",
          "iopub.execute_input": "2024-10-18T16:11:46.805119Z",
          "iopub.status.idle": "2024-10-18T16:11:46.815996Z",
          "shell.execute_reply.started": "2024-10-18T16:11:46.805079Z",
          "shell.execute_reply": "2024-10-18T16:11:46.815114Z"
        },
        "trusted": true,
        "id": "h8GMJaHe_L8e"
      },
      "outputs": [],
      "execution_count": null
    },
    {
      "cell_type": "markdown",
      "source": [
        "## Model Training and Evaluation\n",
        "\n",
        "- **Model Types**: Various models are used, including:\n",
        "  - **LightGBM**: A gradient-boosting framework known for its speed and efficiency with large datasets.\n",
        "  - **XGBoost**: Another powerful gradient-boosting model used for structured data.\n",
        "  - **CatBoost**: Optimized for categorical features without the need for extensive preprocessing.\n",
        "  - **Voting Regressor**: An ensemble model that combines the predictions of LightGBM, XGBoost, and CatBoost for better accuracy.\n",
        "- **Cross-Validation**: Stratified K-Folds cross-validation is employed to split the data into training and validation sets, ensuring balanced class distribution in each fold.\n",
        "- **Quadratic Weighted Kappa (QWK)**: The performance of the models is evaluated using QWK, which measures the agreement between predicted and actual values, taking into account the ordinal nature of the target variable.\n",
        "- **Threshold Optimization**: The `minimize` function from `scipy.optimize` is used to fine-tune decision thresholds that map continuous predictions to discrete categories (None, Mild, Moderate, Severe).\n"
      ],
      "metadata": {
        "id": "5G6gaJzX_L8e"
      }
    },
    {
      "cell_type": "code",
      "source": [
        "def TrainML(model_class, test_data):\n",
        "    X = train.drop(['sii'], axis=1)\n",
        "    y = train['sii']\n",
        "\n",
        "    SKF = StratifiedKFold(n_splits=n_splits, shuffle=True, random_state=SEED)\n",
        "\n",
        "    train_S = []\n",
        "    test_S = []\n",
        "\n",
        "    oof_non_rounded = np.zeros(len(y), dtype=float)\n",
        "    oof_rounded = np.zeros(len(y), dtype=int)\n",
        "    test_preds = np.zeros((len(test_data), n_splits))\n",
        "\n",
        "    for fold, (train_idx, test_idx) in enumerate(tqdm(SKF.split(X, y), desc=\"Training Folds\", total=n_splits)):\n",
        "        X_train, X_val = X.iloc[train_idx], X.iloc[test_idx]\n",
        "        y_train, y_val = y.iloc[train_idx], y.iloc[test_idx]\n",
        "\n",
        "        model = clone(model_class)\n",
        "        model.fit(X_train, y_train)\n",
        "\n",
        "        y_train_pred = model.predict(X_train)\n",
        "        y_val_pred = model.predict(X_val)\n",
        "\n",
        "        oof_non_rounded[test_idx] = y_val_pred\n",
        "        y_val_pred_rounded = y_val_pred.round(0).astype(int)\n",
        "        oof_rounded[test_idx] = y_val_pred_rounded\n",
        "\n",
        "        train_kappa = quadratic_weighted_kappa(y_train, y_train_pred.round(0).astype(int))\n",
        "        val_kappa = quadratic_weighted_kappa(y_val, y_val_pred_rounded)\n",
        "\n",
        "        train_S.append(train_kappa)\n",
        "        test_S.append(val_kappa)\n",
        "\n",
        "        test_preds[:, fold] = model.predict(test_data)\n",
        "\n",
        "        print(f\"Fold {fold+1} - Train QWK: {train_kappa:.4f}, Validation QWK: {val_kappa:.4f}\")\n",
        "        clear_output(wait=True)\n",
        "\n",
        "    print(f\"Mean Train QWK --> {np.mean(train_S):.4f}\")\n",
        "    print(f\"Mean Validation QWK ---> {np.mean(test_S):.4f}\")\n",
        "\n",
        "    KappaOPtimizer = minimize(evaluate_predictions,\n",
        "                              x0=[0.5, 1.5, 2.5], args=(y, oof_non_rounded),\n",
        "                              method='Nelder-Mead')\n",
        "    assert KappaOPtimizer.success, \"Optimization did not converge.\"\n",
        "\n",
        "    oof_tuned = threshold_Rounder(oof_non_rounded, KappaOPtimizer.x)\n",
        "    tKappa = quadratic_weighted_kappa(y, oof_tuned)\n",
        "\n",
        "    print(f\"----> || Optimized QWK SCORE :: {Fore.CYAN}{Style.BRIGHT} {tKappa:.3f}{Style.RESET_ALL}\")\n",
        "\n",
        "    tpm = test_preds.mean(axis=1)\n",
        "    tpTuned = threshold_Rounder(tpm, KappaOPtimizer.x)\n",
        "\n",
        "    submission = pd.DataFrame({\n",
        "        'id': sample['id'],\n",
        "        'sii': tpTuned\n",
        "    })\n",
        "\n",
        "    return submission"
      ],
      "metadata": {
        "execution": {
          "iopub.status.busy": "2024-10-18T16:11:46.819295Z",
          "iopub.execute_input": "2024-10-18T16:11:46.819637Z",
          "iopub.status.idle": "2024-10-18T16:11:46.834152Z",
          "shell.execute_reply.started": "2024-10-18T16:11:46.819576Z",
          "shell.execute_reply": "2024-10-18T16:11:46.833253Z"
        },
        "trusted": true,
        "id": "4OwOkNuz_L8e"
      },
      "outputs": [],
      "execution_count": null
    },
    {
      "cell_type": "markdown",
      "source": [
        "\n",
        "## Hyperparameter Tuning\n",
        "\n",
        "- **LightGBM Parameters**: Hyperparameters such as `learning_rate`, `max_depth`, `num_leaves`, and `feature_fraction` are tuned to improve the performance of the LightGBM model. These parameters control the complexity of the model and its ability to generalize to new data.\n",
        "- **XGBoost and CatBoost Parameters**: Similar tuning is applied for XGBoost and CatBoost, adjusting parameters such as `n_estimators`, `max_depth`, `learning_rate`, `subsample`, and `regularization` terms (`reg_alpha`, `reg_lambda`). These help in controlling overfitting and ensuring the model's robustness."
      ],
      "metadata": {
        "id": "RKOO7mgy_L8e"
      }
    },
    {
      "cell_type": "code",
      "source": [
        "\n",
        "# Model parameters for LightGBM\n",
        "Params = {\n",
        "    'learning_rate': 0.046,\n",
        "    'max_depth': 12,\n",
        "    'num_leaves': 478,\n",
        "    'min_data_in_leaf': 13,\n",
        "    'feature_fraction': 0.893,\n",
        "    'bagging_fraction': 0.784,\n",
        "    'bagging_freq': 4,\n",
        "    'lambda_l1': 10,  # Increased from 6.59\n",
        "    'lambda_l2': 0.01,  # Increased from 2.68e-06\n",
        "    'device': 'gpu'\n",
        "\n",
        "}\n",
        "\n",
        "\n",
        "# XGBoost parameters\n",
        "XGB_Params = {\n",
        "    'learning_rate': 0.05,\n",
        "    'max_depth': 6,\n",
        "    'n_estimators': 200,\n",
        "    'subsample': 0.8,\n",
        "    'colsample_bytree': 0.8,\n",
        "    'reg_alpha': 1,  # Increased from 0.1\n",
        "    'reg_lambda': 5,  # Increased from 1\n",
        "    'random_state': SEED,\n",
        "    'tree_method': 'gpu_hist',\n",
        "\n",
        "}\n",
        "\n",
        "\n",
        "CatBoost_Params = {\n",
        "    'learning_rate': 0.05,\n",
        "    'depth': 6,\n",
        "    'iterations': 200,\n",
        "    'random_seed': SEED,\n",
        "    'verbose': 0,\n",
        "    'l2_leaf_reg': 10,  # Increase this value\n",
        "    'task_type': 'GPU'\n",
        "\n",
        "}"
      ],
      "metadata": {
        "execution": {
          "iopub.status.busy": "2024-10-18T16:11:46.837017Z",
          "iopub.execute_input": "2024-10-18T16:11:46.837471Z",
          "iopub.status.idle": "2024-10-18T16:11:46.844556Z",
          "shell.execute_reply.started": "2024-10-18T16:11:46.837405Z",
          "shell.execute_reply": "2024-10-18T16:11:46.843598Z"
        },
        "trusted": true,
        "id": "QrdQ-3ee_L8e"
      },
      "outputs": [],
      "execution_count": null
    },
    {
      "cell_type": "markdown",
      "source": [
        "## Ensemble Learning and Submission Preparation\n",
        "\n",
        "- **Ensemble Learning**: The model uses a **Voting Regressor**, which combines the predictions from LightGBM, XGBoost, and CatBoost. This approach is beneficial as it leverages the strengths of multiple models, reducing overfitting and improving overall model performance.\n",
        "- **Out-of-Fold (OOF) Predictions**: During cross-validation, out-of-fold predictions are generated for the training set, which helps in model evaluation without data leakage.\n",
        "- **Kappa Optimizer**: The Kappa Optimizer ensures that the predicted values are as close to the actual values as possible by adjusting the thresholds used to convert raw model outputs into class labels.\n",
        "- **Test Set Predictions**: After the model is trained and thresholds are optimized, the test dataset is processed, and predictions are generated using the ensemble model. These predictions are converted into the appropriate format for submission.\n",
        "- **Submission File Creation**: The predictions are saved in a CSV file following the required format for submission (e.g., for a Kaggle competition), which includes columns like `id` and `sii` (Severity Impairment Index)."
      ],
      "metadata": {
        "id": "pGz3WAfl_L8f"
      }
    },
    {
      "cell_type": "markdown",
      "source": [
        "## Final Results and Performance Metrics\n",
        "\n",
        "- **Train and Validation Scores**: After training across multiple folds, the mean Quadratic Weighted Kappa (QWK) score is calculated for both the training and validation datasets, providing an indicator of model performance.\n",
        "- **Optimized QWK Score**: The final optimized QWK score after threshold tuning is displayed, showcasing the model's ability to predict the severity levels effectively.\n",
        "- **Test Predictions**: The test set predictions are evaluated, and a breakdown of the predicted severity levels (None, Mild, Moderate, Severe) is shown, along with their respective counts."
      ],
      "metadata": {
        "id": "lA9TRKVL_L8f"
      }
    },
    {
      "cell_type": "code",
      "source": [
        "# Create model instances\n",
        "Light = LGBMRegressor(**Params, random_state=SEED, verbose=-1, n_estimators=300)\n",
        "XGB_Model = XGBRegressor(**XGB_Params)\n",
        "CatBoost_Model = CatBoostRegressor(**CatBoost_Params)"
      ],
      "metadata": {
        "execution": {
          "iopub.status.busy": "2024-10-18T16:11:46.845738Z",
          "iopub.execute_input": "2024-10-18T16:11:46.846106Z",
          "iopub.status.idle": "2024-10-18T16:11:46.857221Z",
          "shell.execute_reply.started": "2024-10-18T16:11:46.846062Z",
          "shell.execute_reply": "2024-10-18T16:11:46.856316Z"
        },
        "trusted": true,
        "id": "13zo043z_L8f"
      },
      "outputs": [],
      "execution_count": null
    },
    {
      "cell_type": "code",
      "source": [
        "# Combine models using Voting Regressor\n",
        "voting_model = VotingRegressor(estimators=[\n",
        "    ('lightgbm', Light),\n",
        "    ('xgboost', XGB_Model),\n",
        "    ('catboost', CatBoost_Model)\n",
        "])\n",
        "\n",
        "\n",
        "\n",
        "# Train the ensemble model\n",
        "Submission1 = TrainML(voting_model, test)\n",
        "\n",
        "Submission1"
      ],
      "metadata": {
        "execution": {
          "iopub.status.busy": "2024-10-18T16:11:46.858389Z",
          "iopub.execute_input": "2024-10-18T16:11:46.859196Z",
          "iopub.status.idle": "2024-10-18T16:12:22.378474Z",
          "shell.execute_reply.started": "2024-10-18T16:11:46.859158Z",
          "shell.execute_reply": "2024-10-18T16:12:22.377566Z"
        },
        "trusted": true,
        "id": "EvHDUJCu_L8f"
      },
      "outputs": [],
      "execution_count": null
    },
    {
      "cell_type": "code",
      "source": [
        "train = pd.read_csv('/kaggle/input/child-mind-institute-problematic-internet-use/train.csv')\n",
        "test = pd.read_csv('/kaggle/input/child-mind-institute-problematic-internet-use/test.csv')\n",
        "sample = pd.read_csv('/kaggle/input/child-mind-institute-problematic-internet-use/sample_submission.csv')\n",
        "\n",
        "def process_file(filename, dirname):\n",
        "    df = pd.read_parquet(os.path.join(dirname, filename, 'part-0.parquet'))\n",
        "    df.drop('step', axis=1, inplace=True)\n",
        "    return df.describe().values.reshape(-1), filename.split('=')[1]\n",
        "\n",
        "def load_time_series(dirname) -> pd.DataFrame:\n",
        "    ids = os.listdir(dirname)\n",
        "\n",
        "    with ThreadPoolExecutor() as executor:\n",
        "        results = list(tqdm(executor.map(lambda fname: process_file(fname, dirname), ids), total=len(ids)))\n",
        "\n",
        "    stats, indexes = zip(*results)\n",
        "\n",
        "    df = pd.DataFrame(stats, columns=[f\"stat_{i}\" for i in range(len(stats[0]))])\n",
        "    df['id'] = indexes\n",
        "    return df\n",
        "\n",
        "train_ts = load_time_series(\"/kaggle/input/child-mind-institute-problematic-internet-use/series_train.parquet\")\n",
        "test_ts = load_time_series(\"/kaggle/input/child-mind-institute-problematic-internet-use/series_test.parquet\")\n",
        "\n",
        "time_series_cols = train_ts.columns.tolist()\n",
        "time_series_cols.remove(\"id\")\n",
        "\n",
        "train = pd.merge(train, train_ts, how=\"left\", on='id')\n",
        "test = pd.merge(test, test_ts, how=\"left\", on='id')\n",
        "\n",
        "train = train.drop('id', axis=1)\n",
        "test = test.drop('id', axis=1)\n",
        "\n",
        "featuresCols = ['Basic_Demos-Enroll_Season', 'Basic_Demos-Age', 'Basic_Demos-Sex',\n",
        "                'CGAS-Season', 'CGAS-CGAS_Score', 'Physical-Season', 'Physical-BMI',\n",
        "                'Physical-Height', 'Physical-Weight', 'Physical-Waist_Circumference',\n",
        "                'Physical-Diastolic_BP', 'Physical-HeartRate', 'Physical-Systolic_BP',\n",
        "                'Fitness_Endurance-Season', 'Fitness_Endurance-Max_Stage',\n",
        "                'Fitness_Endurance-Time_Mins', 'Fitness_Endurance-Time_Sec',\n",
        "                'FGC-Season', 'FGC-FGC_CU', 'FGC-FGC_CU_Zone', 'FGC-FGC_GSND',\n",
        "                'FGC-FGC_GSND_Zone', 'FGC-FGC_GSD', 'FGC-FGC_GSD_Zone', 'FGC-FGC_PU',\n",
        "                'FGC-FGC_PU_Zone', 'FGC-FGC_SRL', 'FGC-FGC_SRL_Zone', 'FGC-FGC_SRR',\n",
        "                'FGC-FGC_SRR_Zone', 'FGC-FGC_TL', 'FGC-FGC_TL_Zone', 'BIA-Season',\n",
        "                'BIA-BIA_Activity_Level_num', 'BIA-BIA_BMC', 'BIA-BIA_BMI',\n",
        "                'BIA-BIA_BMR', 'BIA-BIA_DEE', 'BIA-BIA_ECW', 'BIA-BIA_FFM',\n",
        "                'BIA-BIA_FFMI', 'BIA-BIA_FMI', 'BIA-BIA_Fat', 'BIA-BIA_Frame_num',\n",
        "                'BIA-BIA_ICW', 'BIA-BIA_LDM', 'BIA-BIA_LST', 'BIA-BIA_SMM',\n",
        "                'BIA-BIA_TBW', 'PAQ_A-Season', 'PAQ_A-PAQ_A_Total', 'PAQ_C-Season',\n",
        "                'PAQ_C-PAQ_C_Total', 'SDS-Season', 'SDS-SDS_Total_Raw',\n",
        "                'SDS-SDS_Total_T', 'PreInt_EduHx-Season',\n",
        "                'PreInt_EduHx-computerinternet_hoursday', 'sii']\n",
        "\n",
        "featuresCols += time_series_cols\n",
        "\n",
        "train = train[featuresCols]\n",
        "train = train.dropna(subset='sii')\n",
        "\n",
        "cat_c = ['Basic_Demos-Enroll_Season', 'CGAS-Season', 'Physical-Season',\n",
        "          'Fitness_Endurance-Season', 'FGC-Season', 'BIA-Season',\n",
        "          'PAQ_A-Season', 'PAQ_C-Season', 'SDS-Season', 'PreInt_EduHx-Season']\n",
        "\n",
        "def update(df):\n",
        "    global cat_c\n",
        "    for c in cat_c:\n",
        "        df[c] = df[c].fillna('Missing')\n",
        "        df[c] = df[c].astype('category')\n",
        "    return df\n",
        "\n",
        "train = update(train)\n",
        "test = update(test)\n",
        "\n",
        "def create_mapping(column, dataset):\n",
        "    unique_values = dataset[column].unique()\n",
        "    return {value: idx for idx, value in enumerate(unique_values)}\n",
        "\n",
        "for col in cat_c:\n",
        "    mapping = create_mapping(col, train)\n",
        "    mappingTe = create_mapping(col, test)\n",
        "\n",
        "    train[col] = train[col].replace(mapping).astype(int)\n",
        "    test[col] = test[col].replace(mappingTe).astype(int)\n",
        "\n",
        "def quadratic_weighted_kappa(y_true, y_pred):\n",
        "    return cohen_kappa_score(y_true, y_pred, weights='quadratic')\n",
        "\n",
        "def threshold_Rounder(oof_non_rounded, thresholds):\n",
        "    return np.where(oof_non_rounded < thresholds[0], 0,\n",
        "                    np.where(oof_non_rounded < thresholds[1], 1,\n",
        "                             np.where(oof_non_rounded < thresholds[2], 2, 3)))\n",
        "\n",
        "def evaluate_predictions(thresholds, y_true, oof_non_rounded):\n",
        "    rounded_p = threshold_Rounder(oof_non_rounded, thresholds)\n",
        "    return -quadratic_weighted_kappa(y_true, rounded_p)\n",
        "\n",
        "def TrainML(model_class, test_data):\n",
        "    X = train.drop(['sii'], axis=1)\n",
        "    y = train['sii']\n",
        "\n",
        "    SKF = StratifiedKFold(n_splits=n_splits, shuffle=True, random_state=SEED)\n",
        "\n",
        "    train_S = []\n",
        "    test_S = []\n",
        "\n",
        "    oof_non_rounded = np.zeros(len(y), dtype=float)\n",
        "    oof_rounded = np.zeros(len(y), dtype=int)\n",
        "    test_preds = np.zeros((len(test_data), n_splits))\n",
        "\n",
        "    for fold, (train_idx, test_idx) in enumerate(tqdm(SKF.split(X, y), desc=\"Training Folds\", total=n_splits)):\n",
        "        X_train, X_val = X.iloc[train_idx], X.iloc[test_idx]\n",
        "        y_train, y_val = y.iloc[train_idx], y.iloc[test_idx]\n",
        "\n",
        "        model = clone(model_class)\n",
        "        model.fit(X_train, y_train)\n",
        "\n",
        "        y_train_pred = model.predict(X_train)\n",
        "        y_val_pred = model.predict(X_val)\n",
        "\n",
        "        oof_non_rounded[test_idx] = y_val_pred\n",
        "        y_val_pred_rounded = y_val_pred.round(0).astype(int)\n",
        "        oof_rounded[test_idx] = y_val_pred_rounded\n",
        "\n",
        "        train_kappa = quadratic_weighted_kappa(y_train, y_train_pred.round(0).astype(int))\n",
        "        val_kappa = quadratic_weighted_kappa(y_val, y_val_pred_rounded)\n",
        "\n",
        "        train_S.append(train_kappa)\n",
        "        test_S.append(val_kappa)\n",
        "\n",
        "        test_preds[:, fold] = model.predict(test_data)\n",
        "\n",
        "        print(f\"Fold {fold+1} - Train QWK: {train_kappa:.4f}, Validation QWK: {val_kappa:.4f}\")\n",
        "        clear_output(wait=True)\n",
        "\n",
        "    print(f\"Mean Train QWK --> {np.mean(train_S):.4f}\")\n",
        "    print(f\"Mean Validation QWK ---> {np.mean(test_S):.4f}\")\n",
        "\n",
        "    KappaOPtimizer = minimize(evaluate_predictions,\n",
        "                              x0=[0.5, 1.5, 2.5], args=(y, oof_non_rounded),\n",
        "                              method='Nelder-Mead')\n",
        "    assert KappaOPtimizer.success, \"Optimization did not converge.\"\n",
        "\n",
        "    oof_tuned = threshold_Rounder(oof_non_rounded, KappaOPtimizer.x)\n",
        "    tKappa = quadratic_weighted_kappa(y, oof_tuned)\n",
        "\n",
        "    print(f\"----> || Optimized QWK SCORE :: {Fore.CYAN}{Style.BRIGHT} {tKappa:.3f}{Style.RESET_ALL}\")\n",
        "\n",
        "    tpm = test_preds.mean(axis=1)\n",
        "    tpTuned = threshold_Rounder(tpm, KappaOPtimizer.x)\n",
        "\n",
        "    submission = pd.DataFrame({\n",
        "        'id': sample['id'],\n",
        "        'sii': tpTuned\n",
        "    })\n",
        "\n",
        "    return submission\n",
        "\n",
        "# Model parameters for LightGBM\n",
        "Params = {\n",
        "    'learning_rate': 0.046,\n",
        "    'max_depth': 12,\n",
        "    'num_leaves': 478,\n",
        "    'min_data_in_leaf': 13,\n",
        "    'feature_fraction': 0.893,\n",
        "    'bagging_fraction': 0.784,\n",
        "    'bagging_freq': 4,\n",
        "    'lambda_l1': 10,  # Increased from 6.59\n",
        "    'lambda_l2': 0.01  # Increased from 2.68e-06\n",
        "}\n",
        "\n",
        "\n",
        "# XGBoost parameters\n",
        "XGB_Params = {\n",
        "    'learning_rate': 0.05,\n",
        "    'max_depth': 6,\n",
        "    'n_estimators': 200,\n",
        "    'subsample': 0.8,\n",
        "    'colsample_bytree': 0.8,\n",
        "    'reg_alpha': 1,  # Increased from 0.1\n",
        "    'reg_lambda': 5,  # Increased from 1\n",
        "    'random_state': SEED\n",
        "}\n",
        "\n",
        "\n",
        "CatBoost_Params = {\n",
        "    'learning_rate': 0.05,\n",
        "    'depth': 6,\n",
        "    'iterations': 200,\n",
        "    'random_seed': SEED,\n",
        "    'cat_features': cat_c,\n",
        "    'verbose': 0,\n",
        "    'l2_leaf_reg': 10  # Increase this value\n",
        "}\n",
        "\n",
        "# Create model instances\n",
        "Light = LGBMRegressor(**Params, random_state=SEED, verbose=-1, n_estimators=300)\n",
        "XGB_Model = XGBRegressor(**XGB_Params)\n",
        "CatBoost_Model = CatBoostRegressor(**CatBoost_Params)\n",
        "\n",
        "# Combine models using Voting Regressor\n",
        "voting_model = VotingRegressor(estimators=[\n",
        "    ('lightgbm', Light),\n",
        "    ('xgboost', XGB_Model),\n",
        "    ('catboost', CatBoost_Model)\n",
        "])\n",
        "\n",
        "# Train the ensemble model\n",
        "Submission2 = TrainML(voting_model, test)\n",
        "\n",
        "# Save submission\n",
        "#Submission2.to_csv('submission.csv', index=False)\n",
        "Submission2"
      ],
      "metadata": {
        "execution": {
          "iopub.status.busy": "2024-10-18T16:12:22.380256Z",
          "iopub.execute_input": "2024-10-18T16:12:22.380917Z",
          "iopub.status.idle": "2024-10-18T16:14:40.271616Z",
          "shell.execute_reply.started": "2024-10-18T16:12:22.380857Z",
          "shell.execute_reply": "2024-10-18T16:14:40.270701Z"
        },
        "trusted": true,
        "id": "kRb2N0tK_L8f"
      },
      "outputs": [],
      "execution_count": null
    },
    {
      "cell_type": "code",
      "source": [
        "train = pd.read_csv('/kaggle/input/child-mind-institute-problematic-internet-use/train.csv')\n",
        "test = pd.read_csv('/kaggle/input/child-mind-institute-problematic-internet-use/test.csv')\n",
        "sample = pd.read_csv('/kaggle/input/child-mind-institute-problematic-internet-use/sample_submission.csv')\n",
        "\n",
        "featuresCols = ['Basic_Demos-Enroll_Season', 'Basic_Demos-Age', 'Basic_Demos-Sex',\n",
        "                'CGAS-Season', 'CGAS-CGAS_Score', 'Physical-Season', 'Physical-BMI',\n",
        "                'Physical-Height', 'Physical-Weight', 'Physical-Waist_Circumference',\n",
        "                'Physical-Diastolic_BP', 'Physical-HeartRate', 'Physical-Systolic_BP',\n",
        "                'Fitness_Endurance-Season', 'Fitness_Endurance-Max_Stage',\n",
        "                'Fitness_Endurance-Time_Mins', 'Fitness_Endurance-Time_Sec',\n",
        "                'FGC-Season', 'FGC-FGC_CU', 'FGC-FGC_CU_Zone', 'FGC-FGC_GSND',\n",
        "                'FGC-FGC_GSND_Zone', 'FGC-FGC_GSD', 'FGC-FGC_GSD_Zone', 'FGC-FGC_PU',\n",
        "                'FGC-FGC_PU_Zone', 'FGC-FGC_SRL', 'FGC-FGC_SRL_Zone', 'FGC-FGC_SRR',\n",
        "                'FGC-FGC_SRR_Zone', 'FGC-FGC_TL', 'FGC-FGC_TL_Zone', 'BIA-Season',\n",
        "                'BIA-BIA_Activity_Level_num', 'BIA-BIA_BMC', 'BIA-BIA_BMI',\n",
        "                'BIA-BIA_BMR', 'BIA-BIA_DEE', 'BIA-BIA_ECW', 'BIA-BIA_FFM',\n",
        "                'BIA-BIA_FFMI', 'BIA-BIA_FMI', 'BIA-BIA_Fat', 'BIA-BIA_Frame_num',\n",
        "                'BIA-BIA_ICW', 'BIA-BIA_LDM', 'BIA-BIA_LST', 'BIA-BIA_SMM',\n",
        "                'BIA-BIA_TBW', 'PAQ_A-Season', 'PAQ_A-PAQ_A_Total', 'PAQ_C-Season',\n",
        "                'PAQ_C-PAQ_C_Total', 'SDS-Season', 'SDS-SDS_Total_Raw',\n",
        "                'SDS-SDS_Total_T', 'PreInt_EduHx-Season',\n",
        "                'PreInt_EduHx-computerinternet_hoursday', 'sii']\n",
        "\n",
        "cat_c = ['Basic_Demos-Enroll_Season', 'CGAS-Season', 'Physical-Season',\n",
        "          'Fitness_Endurance-Season', 'FGC-Season', 'BIA-Season',\n",
        "          'PAQ_A-Season', 'PAQ_C-Season', 'SDS-Season', 'PreInt_EduHx-Season']\n",
        "\n",
        "train_ts = load_time_series(\"/kaggle/input/child-mind-institute-problematic-internet-use/series_train.parquet\")\n",
        "test_ts = load_time_series(\"/kaggle/input/child-mind-institute-problematic-internet-use/series_test.parquet\")\n",
        "\n",
        "time_series_cols = train_ts.columns.tolist()\n",
        "time_series_cols.remove(\"id\")\n",
        "\n",
        "train = pd.merge(train, train_ts, how=\"left\", on='id')\n",
        "test = pd.merge(test, test_ts, how=\"left\", on='id')\n",
        "\n",
        "train = train.drop('id', axis=1)\n",
        "test = test.drop('id', axis=1)\n",
        "\n",
        "featuresCols += time_series_cols\n",
        "\n",
        "train = train[featuresCols]\n",
        "train = train.dropna(subset='sii')\n",
        "\n",
        "def update(df):\n",
        "    global cat_c\n",
        "    for c in cat_c:\n",
        "        df[c] = df[c].fillna('Missing')\n",
        "        df[c] = df[c].astype('category')\n",
        "    return df\n",
        "\n",
        "train = update(train)\n",
        "test = update(test)\n",
        "\n",
        "def create_mapping(column, dataset):\n",
        "    unique_values = dataset[column].unique()\n",
        "    return {value: idx for idx, value in enumerate(unique_values)}\n",
        "\n",
        "for col in cat_c:\n",
        "    mapping = create_mapping(col, train)\n",
        "    mappingTe = create_mapping(col, test)\n",
        "\n",
        "    train[col] = train[col].replace(mapping).astype(int)\n",
        "    test[col] = test[col].replace(mappingTe).astype(int)\n",
        "\n",
        "def quadratic_weighted_kappa(y_true, y_pred):\n",
        "    return cohen_kappa_score(y_true, y_pred, weights='quadratic')\n",
        "\n",
        "def threshold_Rounder(oof_non_rounded, thresholds):\n",
        "    return np.where(oof_non_rounded < thresholds[0], 0,\n",
        "                    np.where(oof_non_rounded < thresholds[1], 1,\n",
        "                             np.where(oof_non_rounded < thresholds[2], 2, 3)))\n",
        "\n",
        "def evaluate_predictions(thresholds, y_true, oof_non_rounded):\n",
        "    rounded_p = threshold_Rounder(oof_non_rounded, thresholds)\n",
        "    return -quadratic_weighted_kappa(y_true, rounded_p)\n",
        "\n",
        "def TrainML(model_class, test_data):\n",
        "    X = train.drop(['sii'], axis=1)\n",
        "    y = train['sii']\n",
        "\n",
        "    SKF = StratifiedKFold(n_splits=n_splits, shuffle=True, random_state=SEED)\n",
        "\n",
        "    train_S = []\n",
        "    test_S = []\n",
        "\n",
        "    oof_non_rounded = np.zeros(len(y), dtype=float)\n",
        "    oof_rounded = np.zeros(len(y), dtype=int)\n",
        "    test_preds = np.zeros((len(test_data), n_splits))\n",
        "\n",
        "    for fold, (train_idx, test_idx) in enumerate(tqdm(SKF.split(X, y), desc=\"Training Folds\", total=n_splits)):\n",
        "        X_train, X_val = X.iloc[train_idx], X.iloc[test_idx]\n",
        "        y_train, y_val = y.iloc[train_idx], y.iloc[test_idx]\n",
        "\n",
        "        model = clone(model_class)\n",
        "        model.fit(X_train, y_train)\n",
        "\n",
        "        y_train_pred = model.predict(X_train)\n",
        "        y_val_pred = model.predict(X_val)\n",
        "\n",
        "        oof_non_rounded[test_idx] = y_val_pred\n",
        "        y_val_pred_rounded = y_val_pred.round(0).astype(int)\n",
        "        oof_rounded[test_idx] = y_val_pred_rounded\n",
        "\n",
        "        train_kappa = quadratic_weighted_kappa(y_train, y_train_pred.round(0).astype(int))\n",
        "        val_kappa = quadratic_weighted_kappa(y_val, y_val_pred_rounded)\n",
        "\n",
        "        train_S.append(train_kappa)\n",
        "        test_S.append(val_kappa)\n",
        "\n",
        "        test_preds[:, fold] = model.predict(test_data)\n",
        "\n",
        "        print(f\"Fold {fold+1} - Train QWK: {train_kappa:.4f}, Validation QWK: {val_kappa:.4f}\")\n",
        "        clear_output(wait=True)\n",
        "\n",
        "    print(f\"Mean Train QWK --> {np.mean(train_S):.4f}\")\n",
        "    print(f\"Mean Validation QWK ---> {np.mean(test_S):.4f}\")\n",
        "\n",
        "    KappaOPtimizer = minimize(evaluate_predictions,\n",
        "                              x0=[0.5, 1.5, 2.5], args=(y, oof_non_rounded),\n",
        "                              method='Nelder-Mead')\n",
        "    assert KappaOPtimizer.success, \"Optimization did not converge.\"\n",
        "\n",
        "    oof_tuned = threshold_Rounder(oof_non_rounded, KappaOPtimizer.x)\n",
        "    tKappa = quadratic_weighted_kappa(y, oof_tuned)\n",
        "\n",
        "    print(f\"----> || Optimized QWK SCORE :: {Fore.CYAN}{Style.BRIGHT} {tKappa:.3f}{Style.RESET_ALL}\")\n",
        "\n",
        "    tpm = test_preds.mean(axis=1)\n",
        "    tp_rounded = threshold_Rounder(tpm, KappaOPtimizer.x)\n",
        "\n",
        "    return tp_rounded\n",
        "\n",
        "imputer = SimpleImputer(strategy='median')\n",
        "\n",
        "ensemble = VotingRegressor(estimators=[\n",
        "    ('lgb', Pipeline(steps=[('imputer', imputer), ('regressor', LGBMRegressor(random_state=SEED))])),\n",
        "    ('xgb', Pipeline(steps=[('imputer', imputer), ('regressor', XGBRegressor(random_state=SEED))])),\n",
        "    ('cat', Pipeline(steps=[('imputer', imputer), ('regressor', CatBoostRegressor(random_state=SEED, silent=True))])),\n",
        "    ('rf', Pipeline(steps=[('imputer', imputer), ('regressor', RandomForestRegressor(random_state=SEED))])),\n",
        "    ('gb', Pipeline(steps=[('imputer', imputer), ('regressor', GradientBoostingRegressor(random_state=SEED))]))\n",
        "])\n",
        "\n",
        "Submission3 = TrainML(ensemble, test)\n",
        "Submission3 = pd.DataFrame({\n",
        "    'id': sample['id'],\n",
        "    'sii': Submission3\n",
        "})\n",
        "\n",
        "Submission3"
      ],
      "metadata": {
        "execution": {
          "iopub.status.busy": "2024-10-18T16:14:40.273012Z",
          "iopub.execute_input": "2024-10-18T16:14:40.27335Z",
          "iopub.status.idle": "2024-10-18T16:18:15.613359Z",
          "shell.execute_reply.started": "2024-10-18T16:14:40.273317Z",
          "shell.execute_reply": "2024-10-18T16:18:15.612269Z"
        },
        "trusted": true,
        "id": "5vojQfss_L8f"
      },
      "outputs": [],
      "execution_count": null
    },
    {
      "cell_type": "code",
      "source": [
        "sub1 = Submission1\n",
        "sub2 = Submission2\n",
        "sub3 = Submission3\n",
        "\n",
        "sub1 = sub1.sort_values(by='id').reset_index(drop=True)\n",
        "sub2 = sub2.sort_values(by='id').reset_index(drop=True)\n",
        "sub3 = sub3.sort_values(by='id').reset_index(drop=True)\n",
        "\n",
        "combined = pd.DataFrame({\n",
        "    'id': sub1['id'],\n",
        "    'sii_1': sub1['sii'],\n",
        "    'sii_2': sub2['sii'],\n",
        "    'sii_3': sub3['sii']\n",
        "})\n",
        "\n",
        "def majority_vote(row):\n",
        "    return row.mode()[0]\n",
        "\n",
        "combined['final_sii'] = combined[['sii_1', 'sii_2', 'sii_3']].apply(majority_vote, axis=1)\n",
        "\n",
        "final_submission = combined[['id', 'final_sii']].rename(columns={'final_sii': 'sii'})\n",
        "\n",
        "final_submission.to_csv('submission.csv', index=False)\n",
        "\n",
        "print(\"Majority voting completed and saved to 'Final_Submission.csv'\")"
      ],
      "metadata": {
        "execution": {
          "iopub.status.busy": "2024-10-18T16:18:15.614567Z",
          "iopub.execute_input": "2024-10-18T16:18:15.61487Z",
          "iopub.status.idle": "2024-10-18T16:18:15.637687Z",
          "shell.execute_reply.started": "2024-10-18T16:18:15.614838Z",
          "shell.execute_reply": "2024-10-18T16:18:15.636634Z"
        },
        "trusted": true,
        "id": "xCWFkDzn_L8f"
      },
      "outputs": [],
      "execution_count": null
    },
    {
      "cell_type": "code",
      "source": [
        "\n",
        "# Save submission\n",
        "#Submission.to_csv('submission.csv', index=False)\n",
        "#print(Submission['sii'].value_counts())\n",
        "#print(Submission)"
      ],
      "metadata": {
        "execution": {
          "iopub.status.busy": "2024-10-18T16:18:15.638803Z",
          "iopub.execute_input": "2024-10-18T16:18:15.639148Z",
          "iopub.status.idle": "2024-10-18T16:18:15.646242Z",
          "shell.execute_reply.started": "2024-10-18T16:18:15.639117Z",
          "shell.execute_reply": "2024-10-18T16:18:15.645352Z"
        },
        "trusted": true,
        "id": "QcCY7nuj_L8f"
      },
      "outputs": [],
      "execution_count": null
    },
    {
      "cell_type": "code",
      "source": [
        "final_submission"
      ],
      "metadata": {
        "execution": {
          "iopub.status.busy": "2024-10-18T16:18:15.647366Z",
          "iopub.execute_input": "2024-10-18T16:18:15.647706Z",
          "iopub.status.idle": "2024-10-18T16:18:15.660636Z",
          "shell.execute_reply.started": "2024-10-18T16:18:15.647661Z",
          "shell.execute_reply": "2024-10-18T16:18:15.65958Z"
        },
        "trusted": true,
        "id": "jnuHdDfD_L8j"
      },
      "outputs": [],
      "execution_count": null
    }
  ],
  "metadata": {
    "accelerator": "GPU",
    "colab": {
      "gpuType": "T4",
      "provenance": [],
      "include_colab_link": true
    },
    "kernelspec": {
      "display_name": "Python 3",
      "name": "python3"
    },
    "language_info": {
      "name": "python"
    }
  },
  "nbformat": 4,
  "nbformat_minor": 0
}